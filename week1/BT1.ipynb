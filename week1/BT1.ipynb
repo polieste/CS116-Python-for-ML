{
  "cells": [
    {
      "cell_type": "markdown",
      "source": [
        "Lê Nguyễn Minh Huy - 20521394 "
      ],
      "metadata": {
        "id": "1y5idWZEEj6N"
      }
    },
    {
      "cell_type": "code",
      "execution_count": null,
      "metadata": {
        "colab": {
          "base_uri": "https://localhost:8080/"
        },
        "id": "jFcg_YO6Soum",
        "outputId": "ecd8363c-d7d8-400d-8244-adc95ec7a329"
      },
      "outputs": [
        {
          "name": "stdout",
          "output_type": "stream",
          "text": [
            "Cloning into 'CSL_HCMC'...\n",
            "remote: Enumerating objects: 1957, done.\u001b[K\n",
            "remote: Counting objects: 100% (46/46), done.\u001b[K\n",
            "remote: Compressing objects: 100% (45/45), done.\u001b[K\n",
            "remote: Total 1957 (delta 7), reused 1 (delta 1), pack-reused 1911\u001b[K\n",
            "Receiving objects: 100% (1957/1957), 175.52 MiB | 27.24 MiB/s, done.\n",
            "Resolving deltas: 100% (1064/1064), done.\n",
            "Checking out files: 100% (542/542), done.\n"
          ]
        }
      ],
      "source": [
        "!git clone https://github.com/CityScope/CSL_HCMC"
      ]
    },
    {
      "cell_type": "code",
      "source": [
        "pip install geopandas"
      ],
      "metadata": {
        "colab": {
          "base_uri": "https://localhost:8080/"
        },
        "id": "apn5yqFHDc1l",
        "outputId": "0e779c02-166d-4e83-9ec1-13c286642d72"
      },
      "execution_count": 3,
      "outputs": [
        {
          "output_type": "stream",
          "name": "stdout",
          "text": [
            "Looking in indexes: https://pypi.org/simple, https://us-python.pkg.dev/colab-wheels/public/simple/\n",
            "Collecting geopandas\n",
            "  Downloading geopandas-0.10.2-py2.py3-none-any.whl (1.0 MB)\n",
            "\u001b[K     |████████████████████████████████| 1.0 MB 5.0 MB/s \n",
            "\u001b[?25hCollecting fiona>=1.8\n",
            "  Downloading Fiona-1.8.21-cp37-cp37m-manylinux2014_x86_64.whl (16.7 MB)\n",
            "\u001b[K     |████████████████████████████████| 16.7 MB 31.7 MB/s \n",
            "\u001b[?25hRequirement already satisfied: shapely>=1.6 in /usr/local/lib/python3.7/dist-packages (from geopandas) (1.8.4)\n",
            "Collecting pyproj>=2.2.0\n",
            "  Downloading pyproj-3.2.1-cp37-cp37m-manylinux2010_x86_64.whl (6.3 MB)\n",
            "\u001b[K     |████████████████████████████████| 6.3 MB 33.8 MB/s \n",
            "\u001b[?25hRequirement already satisfied: pandas>=0.25.0 in /usr/local/lib/python3.7/dist-packages (from geopandas) (1.3.5)\n",
            "Collecting click-plugins>=1.0\n",
            "  Downloading click_plugins-1.1.1-py2.py3-none-any.whl (7.5 kB)\n",
            "Requirement already satisfied: certifi in /usr/local/lib/python3.7/dist-packages (from fiona>=1.8->geopandas) (2022.6.15)\n",
            "Collecting munch\n",
            "  Downloading munch-2.5.0-py2.py3-none-any.whl (10 kB)\n",
            "Requirement already satisfied: click>=4.0 in /usr/local/lib/python3.7/dist-packages (from fiona>=1.8->geopandas) (7.1.2)\n",
            "Requirement already satisfied: six>=1.7 in /usr/local/lib/python3.7/dist-packages (from fiona>=1.8->geopandas) (1.15.0)\n",
            "Requirement already satisfied: attrs>=17 in /usr/local/lib/python3.7/dist-packages (from fiona>=1.8->geopandas) (22.1.0)\n",
            "Requirement already satisfied: setuptools in /usr/local/lib/python3.7/dist-packages (from fiona>=1.8->geopandas) (57.4.0)\n",
            "Collecting cligj>=0.5\n",
            "  Downloading cligj-0.7.2-py3-none-any.whl (7.1 kB)\n",
            "Requirement already satisfied: numpy>=1.17.3 in /usr/local/lib/python3.7/dist-packages (from pandas>=0.25.0->geopandas) (1.21.6)\n",
            "Requirement already satisfied: python-dateutil>=2.7.3 in /usr/local/lib/python3.7/dist-packages (from pandas>=0.25.0->geopandas) (2.8.2)\n",
            "Requirement already satisfied: pytz>=2017.3 in /usr/local/lib/python3.7/dist-packages (from pandas>=0.25.0->geopandas) (2022.2.1)\n",
            "Installing collected packages: munch, cligj, click-plugins, pyproj, fiona, geopandas\n",
            "Successfully installed click-plugins-1.1.1 cligj-0.7.2 fiona-1.8.21 geopandas-0.10.2 munch-2.5.0 pyproj-3.2.1\n"
          ]
        }
      ]
    },
    {
      "cell_type": "code",
      "execution_count": 4,
      "metadata": {
        "id": "UURUlrKEYa7v"
      },
      "outputs": [],
      "source": [
        "import geopandas"
      ]
    },
    {
      "cell_type": "code",
      "execution_count": 14,
      "metadata": {
        "id": "DPmMEfFzX1ZR"
      },
      "outputs": [],
      "source": [
        "df = geopandas.read_file('/content/drive/MyDrive/CS116/CSL_HCMC/Data/GIS/Population/population_HCMC/population_shapefile/Population_Ward_Level.shp')"
      ]
    },
    {
      "cell_type": "code",
      "source": [
        "print(df)"
      ],
      "metadata": {
        "colab": {
          "base_uri": "https://localhost:8080/"
        },
        "id": "3wJgH92sEBMS",
        "outputId": "dff18120-7216-4b1e-9ef3-6c7f3e5cc2dc"
      },
      "execution_count": 15,
      "outputs": [
        {
          "output_type": "stream",
          "name": "stdout",
          "text": [
            "             Com_Name    Dist_Name Com_ID Dist_ID Level  Pop_2009  Pop_2019  \\\n",
            "0            Tan Dinh   District 1  26734     760  Ward   26571.0   23258.0   \n",
            "1            Ben Nghe   District 1  26740     760  Ward   13580.0   10633.0   \n",
            "2        Cau Ong Lanh   District 1  26752     760  Ward   12917.0   10737.0   \n",
            "3    Nguyen Thai Binh   District 1  26746     760  Ward   13197.0    9716.0   \n",
            "4            Co Giang   District 1  26755     760  Ward   18967.0   11517.0   \n",
            "..                ...          ...    ...     ...   ...       ...       ...   \n",
            "317    Tan Hung Thuan  District 12  26787     761  Ward   28892.0   33467.0   \n",
            "318           Ward 17       Go Vap  26875     764  Ward   44226.0   54728.0   \n",
            "319            Ward 8       Go Vap  26898     764  Ward   26545.0   32778.0   \n",
            "320            Ward 9       Go Vap  26897     764  Ward   26785.0   34596.0   \n",
            "321           Ward 12       Go Vap  26881     764  Ward   50356.0   60502.0   \n",
            "\n",
            "     Den_2009  Den_2019   Shape_Leng    Shape_Area  \\\n",
            "0    41942.70  36713.10  3679.098196  6.334981e+05   \n",
            "1     5480.09   4290.86  6978.149149  2.478041e+06   \n",
            "2    56878.90  47279.50  2260.705105  2.270938e+05   \n",
            "3    26798.80  19730.00  3320.174618  4.924426e+05   \n",
            "4    53327.60  32381.20  2525.453814  3.556650e+05   \n",
            "..        ...       ...          ...           ...   \n",
            "317  16053.40  18595.50  6271.308704  1.799659e+06   \n",
            "318  38061.20  47099.30  6385.950275  1.161947e+06   \n",
            "319  22751.50  28093.70  5409.821020  1.166701e+06   \n",
            "320  31843.10  41129.20  3950.799798  8.411288e+05   \n",
            "321  35096.20  42167.60  4848.143508  1.434747e+06   \n",
            "\n",
            "                                              geometry  \n",
            "0    POLYGON ((684350.511 1193546.266, 684363.810 1...  \n",
            "1    POLYGON ((686564.657 1193462.473, 686588.924 1...  \n",
            "2    POLYGON ((685922.373 1190479.807, 685914.160 1...  \n",
            "3    POLYGON ((685966.333 1190513.667, 685944.353 1...  \n",
            "4    POLYGON ((685514.573 1190211.431, 685547.521 1...  \n",
            "..                                                 ...  \n",
            "317  POLYGON ((677816.513 1197206.772, 677796.932 1...  \n",
            "318  POLYGON ((683516.949 1200006.226, 683509.721 1...  \n",
            "319  POLYGON ((680928.492 1199066.285, 680984.889 1...  \n",
            "320  POLYGON ((681120.443 1199640.183, 681120.846 1...  \n",
            "321  POLYGON ((679970.916 1198480.707, 679932.874 1...  \n",
            "\n",
            "[322 rows x 12 columns]\n"
          ]
        }
      ]
    },
    {
      "cell_type": "code",
      "source": [
        "print('Phường có diện tích lớn nhất là: {}'.\n",
        "      format(df['Com_Name'][df['Shape_Area'].argmax()]))\n",
        "print('Phường có dân số cao nhất 2019 là: {}'.\n",
        "      format(df['Com_Name'][df['Pop_2019'].argmax()]))\n",
        "print('Phường có diện tích nhỏ nhất là: {}'.\n",
        "      format(df['Com_Name'][df['Shape_Area'].argmin()]))\n",
        "print('Phường có dân số thấp nhất 2019 là: {}'.\n",
        "      format(df['Com_Name'][df['Pop_2019'].argmin()]))\n",
        "print('Phường có tốc độ tăng trưởng dân số nhanh nhất là: {}'.\n",
        "      format(df['Com_Name'][((df['Pop_2019']-df['Pop_2009'])/df['Pop_2009']).argmax()]))\n",
        "print('Phường có tốc độ tăng trưởng dân số chậm nhất là: {}'.\n",
        "      format(df['Com_Name'][((df['Pop_2019']-df['Pop_2009'])/df['Pop_2009']).argmin()]))\n",
        "print('Phường có biến động dân số nhanh nhất là: {}'.\n",
        "      format(df['Com_Name'][(df['Pop_2019']-df['Pop_2009']).argmax()]))\n",
        "print('Phường có biến động dân số chậm nhất là: {}'.\n",
        "      format(df['Com_Name'][(df['Pop_2019']-df['Pop_2009']).argmin()]))\n",
        "print('Phường có mật độ dân số cao nhất (2019): {}'.\n",
        "      format(df['Com_Name'][df['Den_2019'].argmax()]))\n",
        "print('Phường có mật độ dân số thấp nhất (2019) {}'.\n",
        "      format(df['Com_Name'][df['Den_2019'].argmin()]))"
      ],
      "metadata": {
        "colab": {
          "base_uri": "https://localhost:8080/"
        },
        "id": "Pr48R-i7DWbu",
        "outputId": "7a198fff-6b46-4268-9fad-b941c9290f62"
      },
      "execution_count": 17,
      "outputs": [
        {
          "output_type": "stream",
          "name": "stdout",
          "text": [
            "Phường có diện tích lớn nhất là: Ly Nhon\n",
            "Phường có dân số cao nhất 2019 là: Vinh Loc A\n",
            "Phường có diện tích nhỏ nhất là: Ward 3\n",
            "Phường có dân số thấp nhất 2019 là: An Khanh\n",
            "Phường có tốc độ tăng trưởng dân số nhanh nhất là: Phu Huu\n",
            "Phường có tốc độ tăng trưởng dân số chậm nhất là: An Khanh\n",
            "Phường có biến động dân số nhanh nhất là: Vinh Loc A\n",
            "Phường có biến động dân số chậm nhất là: An Khanh\n",
            "Phường có mật độ dân số cao nhất (2019): Ward 8\n",
            "Phường có mật độ dân số thấp nhất (2019) Ly Nhon\n"
          ]
        }
      ]
    }
  ],
  "metadata": {
    "colab": {
      "provenance": []
    },
    "kernelspec": {
      "display_name": "Python 3",
      "name": "python3"
    },
    "language_info": {
      "name": "python"
    }
  },
  "nbformat": 4,
  "nbformat_minor": 0
}