{
  "nbformat": 4,
  "nbformat_minor": 0,
  "metadata": {
    "colab": {
      "provenance": []
    },
    "kernelspec": {
      "name": "python3",
      "display_name": "Python 3"
    },
    "language_info": {
      "name": "python"
    }
  },
  "cells": [
    {
      "cell_type": "code",
      "execution_count": 3,
      "metadata": {
        "id": "esQyBSwm4d_a"
      },
      "outputs": [],
      "source": [
        "import numpy as np\n",
        "from sklearn.svm import SVC\n",
        "\n",
        "import pandas as pd\n",
        "from sklearn.metrics import classification_report, confusion_matrix\n",
        "from sklearn.datasets import load_iris "
      ]
    },
    {
      "cell_type": "markdown",
      "source": [
        "Load dataset"
      ],
      "metadata": {
        "id": "yuouLmgI8apg"
      }
    },
    {
      "cell_type": "code",
      "source": [
        "iris = load_iris()"
      ],
      "metadata": {
        "id": "wflg4iF944yN"
      },
      "execution_count": 4,
      "outputs": []
    },
    {
      "cell_type": "code",
      "source": [
        "iris.keys()"
      ],
      "metadata": {
        "colab": {
          "base_uri": "https://localhost:8080/"
        },
        "id": "_rKQQsMc5Gxe",
        "outputId": "d07c590d-7ebc-49fd-f774-bf5bc82f42d6"
      },
      "execution_count": 6,
      "outputs": [
        {
          "output_type": "execute_result",
          "data": {
            "text/plain": [
              "dict_keys(['data', 'target', 'frame', 'target_names', 'DESCR', 'feature_names', 'filename', 'data_module'])"
            ]
          },
          "metadata": {},
          "execution_count": 6
        }
      ]
    },
    {
      "cell_type": "code",
      "source": [
        "df_feat = pd.DataFrame(iris['data'],\n",
        "                       columns = iris['feature_names'])\n",
        "  \n",
        "# iris column is our target\n",
        "df_target = pd.DataFrame(iris['target'], \n",
        "                     columns =['iris'])\n",
        "  \n",
        "print(\"Feature Variables: \")\n",
        "print(df_feat.info())"
      ],
      "metadata": {
        "colab": {
          "base_uri": "https://localhost:8080/"
        },
        "id": "CqQucB-J5Je7",
        "outputId": "8d37f0e3-d58d-4f98-c7ae-57e9cc390957"
      },
      "execution_count": 7,
      "outputs": [
        {
          "output_type": "stream",
          "name": "stdout",
          "text": [
            "Feature Variables: \n",
            "<class 'pandas.core.frame.DataFrame'>\n",
            "RangeIndex: 150 entries, 0 to 149\n",
            "Data columns (total 4 columns):\n",
            " #   Column             Non-Null Count  Dtype  \n",
            "---  ------             --------------  -----  \n",
            " 0   sepal length (cm)  150 non-null    float64\n",
            " 1   sepal width (cm)   150 non-null    float64\n",
            " 2   petal length (cm)  150 non-null    float64\n",
            " 3   petal width (cm)   150 non-null    float64\n",
            "dtypes: float64(4)\n",
            "memory usage: 4.8 KB\n",
            "None\n"
          ]
        }
      ]
    },
    {
      "cell_type": "code",
      "source": [
        "\n",
        "from sklearn.model_selection import train_test_split\n",
        "  \n",
        "X_train, X_test, y_train, y_test = train_test_split(\n",
        "                        df_feat, np.ravel(df_target),\n",
        "                test_size = 0.30, random_state = 101)"
      ],
      "metadata": {
        "id": "wFyAyX2J5zmn"
      },
      "execution_count": 8,
      "outputs": []
    },
    {
      "cell_type": "markdown",
      "source": [
        "Raw"
      ],
      "metadata": {
        "id": "kcd_IY5Q8VNL"
      }
    },
    {
      "cell_type": "code",
      "source": [
        "\n",
        "# train the model on train set\n",
        "model = SVC()\n",
        "model.fit(X_train, y_train)\n",
        "  \n",
        "# print prediction results\n",
        "predictions = model.predict(X_test)\n",
        "print(classification_report(y_test, predictions))"
      ],
      "metadata": {
        "colab": {
          "base_uri": "https://localhost:8080/"
        },
        "id": "l82oiKq955Xn",
        "outputId": "df2ef816-a572-4df7-990f-3304b1f085e5"
      },
      "execution_count": 9,
      "outputs": [
        {
          "output_type": "stream",
          "name": "stdout",
          "text": [
            "              precision    recall  f1-score   support\n",
            "\n",
            "           0       1.00      1.00      1.00        13\n",
            "           1       1.00      0.95      0.97        20\n",
            "           2       0.92      1.00      0.96        12\n",
            "\n",
            "    accuracy                           0.98        45\n",
            "   macro avg       0.97      0.98      0.98        45\n",
            "weighted avg       0.98      0.98      0.98        45\n",
            "\n"
          ]
        }
      ]
    },
    {
      "cell_type": "markdown",
      "source": [
        "Grid Search"
      ],
      "metadata": {
        "id": "3iNvH3nB8X02"
      }
    },
    {
      "cell_type": "code",
      "source": [
        "\n",
        "from sklearn.model_selection import GridSearchCV\n",
        "  \n",
        "# defining parameter range\n",
        "param_grid = {'C': [0.1, 1, 10, 100, 1000], \n",
        "              'gamma': [1, 0.1, 0.01, 0.001, 0.0001],\n",
        "              'kernel': ['linear', 'poly', 'rbf']} \n",
        "  \n",
        "grid = GridSearchCV(SVC(), param_grid, refit = True, verbose = 3)\n",
        "  \n",
        "# fitting the model for grid search\n",
        "grid.fit(X_train, y_train)"
      ],
      "metadata": {
        "colab": {
          "base_uri": "https://localhost:8080/"
        },
        "id": "JHUzd_yY5_LT",
        "outputId": "4c9b2c87-8703-4dec-a12a-f26bc9db7d4d"
      },
      "execution_count": 18,
      "outputs": [
        {
          "output_type": "stream",
          "name": "stdout",
          "text": [
            "Fitting 5 folds for each of 75 candidates, totalling 375 fits\n",
            "[CV 1/5] END .....C=0.1, gamma=1, kernel=linear;, score=1.000 total time=   0.0s\n",
            "[CV 2/5] END .....C=0.1, gamma=1, kernel=linear;, score=1.000 total time=   0.0s\n",
            "[CV 3/5] END .....C=0.1, gamma=1, kernel=linear;, score=0.857 total time=   0.0s\n",
            "[CV 4/5] END .....C=0.1, gamma=1, kernel=linear;, score=0.952 total time=   0.0s\n",
            "[CV 5/5] END .....C=0.1, gamma=1, kernel=linear;, score=0.952 total time=   0.0s\n",
            "[CV 1/5] END .......C=0.1, gamma=1, kernel=poly;, score=1.000 total time=   0.0s\n",
            "[CV 2/5] END .......C=0.1, gamma=1, kernel=poly;, score=0.952 total time=   0.0s\n",
            "[CV 3/5] END .......C=0.1, gamma=1, kernel=poly;, score=0.857 total time=   0.0s\n",
            "[CV 4/5] END .......C=0.1, gamma=1, kernel=poly;, score=0.905 total time=   0.0s\n",
            "[CV 5/5] END .......C=0.1, gamma=1, kernel=poly;, score=0.952 total time=   0.0s\n",
            "[CV 1/5] END ........C=0.1, gamma=1, kernel=rbf;, score=0.905 total time=   0.0s\n",
            "[CV 2/5] END ........C=0.1, gamma=1, kernel=rbf;, score=1.000 total time=   0.0s\n",
            "[CV 3/5] END ........C=0.1, gamma=1, kernel=rbf;, score=0.905 total time=   0.0s\n",
            "[CV 4/5] END ........C=0.1, gamma=1, kernel=rbf;, score=0.905 total time=   0.0s\n",
            "[CV 5/5] END ........C=0.1, gamma=1, kernel=rbf;, score=0.952 total time=   0.0s\n",
            "[CV 1/5] END ...C=0.1, gamma=0.1, kernel=linear;, score=1.000 total time=   0.0s\n",
            "[CV 2/5] END ...C=0.1, gamma=0.1, kernel=linear;, score=1.000 total time=   0.0s\n",
            "[CV 3/5] END ...C=0.1, gamma=0.1, kernel=linear;, score=0.857 total time=   0.0s\n",
            "[CV 4/5] END ...C=0.1, gamma=0.1, kernel=linear;, score=0.952 total time=   0.0s\n",
            "[CV 5/5] END ...C=0.1, gamma=0.1, kernel=linear;, score=0.952 total time=   0.0s\n",
            "[CV 1/5] END .....C=0.1, gamma=0.1, kernel=poly;, score=1.000 total time=   0.0s\n",
            "[CV 2/5] END .....C=0.1, gamma=0.1, kernel=poly;, score=1.000 total time=   0.0s\n",
            "[CV 3/5] END .....C=0.1, gamma=0.1, kernel=poly;, score=0.905 total time=   0.0s\n",
            "[CV 4/5] END .....C=0.1, gamma=0.1, kernel=poly;, score=0.905 total time=   0.0s\n",
            "[CV 5/5] END .....C=0.1, gamma=0.1, kernel=poly;, score=1.000 total time=   0.0s\n",
            "[CV 1/5] END ......C=0.1, gamma=0.1, kernel=rbf;, score=0.857 total time=   0.0s\n",
            "[CV 2/5] END ......C=0.1, gamma=0.1, kernel=rbf;, score=0.714 total time=   0.0s\n",
            "[CV 3/5] END ......C=0.1, gamma=0.1, kernel=rbf;, score=0.857 total time=   0.0s\n",
            "[CV 4/5] END ......C=0.1, gamma=0.1, kernel=rbf;, score=0.810 total time=   0.0s\n",
            "[CV 5/5] END ......C=0.1, gamma=0.1, kernel=rbf;, score=0.810 total time=   0.0s\n",
            "[CV 1/5] END ..C=0.1, gamma=0.01, kernel=linear;, score=1.000 total time=   0.0s\n",
            "[CV 2/5] END ..C=0.1, gamma=0.01, kernel=linear;, score=1.000 total time=   0.0s\n",
            "[CV 3/5] END ..C=0.1, gamma=0.01, kernel=linear;, score=0.857 total time=   0.0s\n",
            "[CV 4/5] END ..C=0.1, gamma=0.01, kernel=linear;, score=0.952 total time=   0.0s\n",
            "[CV 5/5] END ..C=0.1, gamma=0.01, kernel=linear;, score=0.952 total time=   0.0s\n",
            "[CV 1/5] END ....C=0.1, gamma=0.01, kernel=poly;, score=0.619 total time=   0.0s\n",
            "[CV 2/5] END ....C=0.1, gamma=0.01, kernel=poly;, score=0.619 total time=   0.0s\n",
            "[CV 3/5] END ....C=0.1, gamma=0.01, kernel=poly;, score=0.571 total time=   0.0s\n",
            "[CV 4/5] END ....C=0.1, gamma=0.01, kernel=poly;, score=0.571 total time=   0.0s\n",
            "[CV 5/5] END ....C=0.1, gamma=0.01, kernel=poly;, score=0.714 total time=   0.0s\n",
            "[CV 1/5] END .....C=0.1, gamma=0.01, kernel=rbf;, score=0.714 total time=   0.0s\n",
            "[CV 2/5] END .....C=0.1, gamma=0.01, kernel=rbf;, score=0.714 total time=   0.0s\n",
            "[CV 3/5] END .....C=0.1, gamma=0.01, kernel=rbf;, score=0.714 total time=   0.0s\n",
            "[CV 4/5] END .....C=0.1, gamma=0.01, kernel=rbf;, score=0.714 total time=   0.0s\n",
            "[CV 5/5] END .....C=0.1, gamma=0.01, kernel=rbf;, score=0.714 total time=   0.0s\n",
            "[CV 1/5] END .C=0.1, gamma=0.001, kernel=linear;, score=1.000 total time=   0.0s\n",
            "[CV 2/5] END .C=0.1, gamma=0.001, kernel=linear;, score=1.000 total time=   0.0s\n",
            "[CV 3/5] END .C=0.1, gamma=0.001, kernel=linear;, score=0.857 total time=   0.0s\n",
            "[CV 4/5] END .C=0.1, gamma=0.001, kernel=linear;, score=0.952 total time=   0.0s\n",
            "[CV 5/5] END .C=0.1, gamma=0.001, kernel=linear;, score=0.952 total time=   0.0s\n",
            "[CV 1/5] END ...C=0.1, gamma=0.001, kernel=poly;, score=0.333 total time=   0.0s\n",
            "[CV 2/5] END ...C=0.1, gamma=0.001, kernel=poly;, score=0.333 total time=   0.0s\n",
            "[CV 3/5] END ...C=0.1, gamma=0.001, kernel=poly;, score=0.571 total time=   0.0s\n",
            "[CV 4/5] END ...C=0.1, gamma=0.001, kernel=poly;, score=0.571 total time=   0.0s\n",
            "[CV 5/5] END ...C=0.1, gamma=0.001, kernel=poly;, score=0.667 total time=   0.0s\n",
            "[CV 1/5] END ....C=0.1, gamma=0.001, kernel=rbf;, score=0.333 total time=   0.0s\n",
            "[CV 2/5] END ....C=0.1, gamma=0.001, kernel=rbf;, score=0.333 total time=   0.0s\n",
            "[CV 3/5] END ....C=0.1, gamma=0.001, kernel=rbf;, score=0.714 total time=   0.0s\n",
            "[CV 4/5] END ....C=0.1, gamma=0.001, kernel=rbf;, score=0.714 total time=   0.0s\n",
            "[CV 5/5] END ....C=0.1, gamma=0.001, kernel=rbf;, score=0.714 total time=   0.0s\n",
            "[CV 1/5] END C=0.1, gamma=0.0001, kernel=linear;, score=1.000 total time=   0.0s\n",
            "[CV 2/5] END C=0.1, gamma=0.0001, kernel=linear;, score=1.000 total time=   0.0s\n",
            "[CV 3/5] END C=0.1, gamma=0.0001, kernel=linear;, score=0.857 total time=   0.0s\n",
            "[CV 4/5] END C=0.1, gamma=0.0001, kernel=linear;, score=0.952 total time=   0.0s\n",
            "[CV 5/5] END C=0.1, gamma=0.0001, kernel=linear;, score=0.952 total time=   0.0s\n",
            "[CV 1/5] END ..C=0.1, gamma=0.0001, kernel=poly;, score=0.333 total time=   0.0s\n",
            "[CV 2/5] END ..C=0.1, gamma=0.0001, kernel=poly;, score=0.333 total time=   0.0s\n",
            "[CV 3/5] END ..C=0.1, gamma=0.0001, kernel=poly;, score=0.571 total time=   0.0s\n",
            "[CV 4/5] END ..C=0.1, gamma=0.0001, kernel=poly;, score=0.571 total time=   0.0s\n",
            "[CV 5/5] END ..C=0.1, gamma=0.0001, kernel=poly;, score=0.667 total time=   0.0s\n",
            "[CV 1/5] END ...C=0.1, gamma=0.0001, kernel=rbf;, score=0.333 total time=   0.0s\n",
            "[CV 2/5] END ...C=0.1, gamma=0.0001, kernel=rbf;, score=0.333 total time=   0.0s\n",
            "[CV 3/5] END ...C=0.1, gamma=0.0001, kernel=rbf;, score=0.714 total time=   0.0s\n",
            "[CV 4/5] END ...C=0.1, gamma=0.0001, kernel=rbf;, score=0.714 total time=   0.0s\n",
            "[CV 5/5] END ...C=0.1, gamma=0.0001, kernel=rbf;, score=0.714 total time=   0.0s\n",
            "[CV 1/5] END .......C=1, gamma=1, kernel=linear;, score=1.000 total time=   0.0s\n",
            "[CV 2/5] END .......C=1, gamma=1, kernel=linear;, score=1.000 total time=   0.0s\n",
            "[CV 3/5] END .......C=1, gamma=1, kernel=linear;, score=0.952 total time=   0.0s\n",
            "[CV 4/5] END .......C=1, gamma=1, kernel=linear;, score=0.905 total time=   0.0s\n",
            "[CV 5/5] END .......C=1, gamma=1, kernel=linear;, score=1.000 total time=   0.0s\n",
            "[CV 1/5] END .........C=1, gamma=1, kernel=poly;, score=1.000 total time=   0.0s\n",
            "[CV 2/5] END .........C=1, gamma=1, kernel=poly;, score=0.905 total time=   0.0s\n",
            "[CV 3/5] END .........C=1, gamma=1, kernel=poly;, score=0.857 total time=   0.0s\n",
            "[CV 4/5] END .........C=1, gamma=1, kernel=poly;, score=0.905 total time=   0.0s\n",
            "[CV 5/5] END .........C=1, gamma=1, kernel=poly;, score=0.952 total time=   0.0s\n",
            "[CV 1/5] END ..........C=1, gamma=1, kernel=rbf;, score=1.000 total time=   0.0s\n",
            "[CV 2/5] END ..........C=1, gamma=1, kernel=rbf;, score=0.905 total time=   0.0s\n",
            "[CV 3/5] END ..........C=1, gamma=1, kernel=rbf;, score=0.905 total time=   0.0s\n",
            "[CV 4/5] END ..........C=1, gamma=1, kernel=rbf;, score=0.952 total time=   0.0s\n",
            "[CV 5/5] END ..........C=1, gamma=1, kernel=rbf;, score=0.952 total time=   0.0s\n",
            "[CV 1/5] END .....C=1, gamma=0.1, kernel=linear;, score=1.000 total time=   0.0s\n",
            "[CV 2/5] END .....C=1, gamma=0.1, kernel=linear;, score=1.000 total time=   0.0s\n",
            "[CV 3/5] END .....C=1, gamma=0.1, kernel=linear;, score=0.952 total time=   0.0s\n",
            "[CV 4/5] END .....C=1, gamma=0.1, kernel=linear;, score=0.905 total time=   0.0s\n",
            "[CV 5/5] END .....C=1, gamma=0.1, kernel=linear;, score=1.000 total time=   0.0s\n",
            "[CV 1/5] END .......C=1, gamma=0.1, kernel=poly;, score=1.000 total time=   0.0s\n",
            "[CV 2/5] END .......C=1, gamma=0.1, kernel=poly;, score=1.000 total time=   0.0s\n",
            "[CV 3/5] END .......C=1, gamma=0.1, kernel=poly;, score=0.857 total time=   0.0s\n",
            "[CV 4/5] END .......C=1, gamma=0.1, kernel=poly;, score=0.905 total time=   0.0s\n",
            "[CV 5/5] END .......C=1, gamma=0.1, kernel=poly;, score=0.952 total time=   0.0s\n",
            "[CV 1/5] END ........C=1, gamma=0.1, kernel=rbf;, score=1.000 total time=   0.0s\n",
            "[CV 2/5] END ........C=1, gamma=0.1, kernel=rbf;, score=1.000 total time=   0.0s\n",
            "[CV 3/5] END ........C=1, gamma=0.1, kernel=rbf;, score=0.905 total time=   0.0s\n",
            "[CV 4/5] END ........C=1, gamma=0.1, kernel=rbf;, score=0.905 total time=   0.0s\n",
            "[CV 5/5] END ........C=1, gamma=0.1, kernel=rbf;, score=1.000 total time=   0.0s\n",
            "[CV 1/5] END ....C=1, gamma=0.01, kernel=linear;, score=1.000 total time=   0.0s\n",
            "[CV 2/5] END ....C=1, gamma=0.01, kernel=linear;, score=1.000 total time=   0.0s\n",
            "[CV 3/5] END ....C=1, gamma=0.01, kernel=linear;, score=0.952 total time=   0.0s\n",
            "[CV 4/5] END ....C=1, gamma=0.01, kernel=linear;, score=0.905 total time=   0.0s\n",
            "[CV 5/5] END ....C=1, gamma=0.01, kernel=linear;, score=1.000 total time=   0.0s\n",
            "[CV 1/5] END ......C=1, gamma=0.01, kernel=poly;, score=0.810 total time=   0.0s\n",
            "[CV 2/5] END ......C=1, gamma=0.01, kernel=poly;, score=0.905 total time=   0.0s\n",
            "[CV 3/5] END ......C=1, gamma=0.01, kernel=poly;, score=0.810 total time=   0.0s\n",
            "[CV 4/5] END ......C=1, gamma=0.01, kernel=poly;, score=0.810 total time=   0.0s\n",
            "[CV 5/5] END ......C=1, gamma=0.01, kernel=poly;, score=1.000 total time=   0.0s\n",
            "[CV 1/5] END .......C=1, gamma=0.01, kernel=rbf;, score=0.952 total time=   0.0s\n",
            "[CV 2/5] END .......C=1, gamma=0.01, kernel=rbf;, score=0.810 total time=   0.0s\n",
            "[CV 3/5] END .......C=1, gamma=0.01, kernel=rbf;, score=0.857 total time=   0.0s\n",
            "[CV 4/5] END .......C=1, gamma=0.01, kernel=rbf;, score=0.857 total time=   0.0s\n",
            "[CV 5/5] END .......C=1, gamma=0.01, kernel=rbf;, score=0.905 total time=   0.0s\n",
            "[CV 1/5] END ...C=1, gamma=0.001, kernel=linear;, score=1.000 total time=   0.0s\n",
            "[CV 2/5] END ...C=1, gamma=0.001, kernel=linear;, score=1.000 total time=   0.0s\n",
            "[CV 3/5] END ...C=1, gamma=0.001, kernel=linear;, score=0.952 total time=   0.0s\n",
            "[CV 4/5] END ...C=1, gamma=0.001, kernel=linear;, score=0.905 total time=   0.0s\n",
            "[CV 5/5] END ...C=1, gamma=0.001, kernel=linear;, score=1.000 total time=   0.0s\n",
            "[CV 1/5] END .....C=1, gamma=0.001, kernel=poly;, score=0.333 total time=   0.0s\n",
            "[CV 2/5] END .....C=1, gamma=0.001, kernel=poly;, score=0.333 total time=   0.0s\n",
            "[CV 3/5] END .....C=1, gamma=0.001, kernel=poly;, score=0.571 total time=   0.0s\n",
            "[CV 4/5] END .....C=1, gamma=0.001, kernel=poly;, score=0.571 total time=   0.0s\n",
            "[CV 5/5] END .....C=1, gamma=0.001, kernel=poly;, score=0.667 total time=   0.0s\n",
            "[CV 1/5] END ......C=1, gamma=0.001, kernel=rbf;, score=0.714 total time=   0.0s\n",
            "[CV 2/5] END ......C=1, gamma=0.001, kernel=rbf;, score=0.714 total time=   0.0s\n",
            "[CV 3/5] END ......C=1, gamma=0.001, kernel=rbf;, score=0.714 total time=   0.0s\n",
            "[CV 4/5] END ......C=1, gamma=0.001, kernel=rbf;, score=0.714 total time=   0.0s\n",
            "[CV 5/5] END ......C=1, gamma=0.001, kernel=rbf;, score=0.714 total time=   0.0s\n",
            "[CV 1/5] END ..C=1, gamma=0.0001, kernel=linear;, score=1.000 total time=   0.0s\n",
            "[CV 2/5] END ..C=1, gamma=0.0001, kernel=linear;, score=1.000 total time=   0.0s\n",
            "[CV 3/5] END ..C=1, gamma=0.0001, kernel=linear;, score=0.952 total time=   0.0s\n",
            "[CV 4/5] END ..C=1, gamma=0.0001, kernel=linear;, score=0.905 total time=   0.0s\n",
            "[CV 5/5] END ..C=1, gamma=0.0001, kernel=linear;, score=1.000 total time=   0.0s\n",
            "[CV 1/5] END ....C=1, gamma=0.0001, kernel=poly;, score=0.333 total time=   0.0s\n",
            "[CV 2/5] END ....C=1, gamma=0.0001, kernel=poly;, score=0.333 total time=   0.0s\n",
            "[CV 3/5] END ....C=1, gamma=0.0001, kernel=poly;, score=0.571 total time=   0.0s\n",
            "[CV 4/5] END ....C=1, gamma=0.0001, kernel=poly;, score=0.571 total time=   0.0s\n",
            "[CV 5/5] END ....C=1, gamma=0.0001, kernel=poly;, score=0.667 total time=   0.0s\n",
            "[CV 1/5] END .....C=1, gamma=0.0001, kernel=rbf;, score=0.333 total time=   0.0s\n",
            "[CV 2/5] END .....C=1, gamma=0.0001, kernel=rbf;, score=0.333 total time=   0.0s\n",
            "[CV 3/5] END .....C=1, gamma=0.0001, kernel=rbf;, score=0.714 total time=   0.0s\n",
            "[CV 4/5] END .....C=1, gamma=0.0001, kernel=rbf;, score=0.714 total time=   0.0s\n",
            "[CV 5/5] END .....C=1, gamma=0.0001, kernel=rbf;, score=0.714 total time=   0.0s\n",
            "[CV 1/5] END ......C=10, gamma=1, kernel=linear;, score=1.000 total time=   0.0s\n",
            "[CV 2/5] END ......C=10, gamma=1, kernel=linear;, score=1.000 total time=   0.0s\n",
            "[CV 3/5] END ......C=10, gamma=1, kernel=linear;, score=0.905 total time=   0.0s\n",
            "[CV 4/5] END ......C=10, gamma=1, kernel=linear;, score=0.905 total time=   0.0s\n",
            "[CV 5/5] END ......C=10, gamma=1, kernel=linear;, score=0.952 total time=   0.0s\n",
            "[CV 1/5] END ........C=10, gamma=1, kernel=poly;, score=1.000 total time=   0.0s\n",
            "[CV 2/5] END ........C=10, gamma=1, kernel=poly;, score=0.905 total time=   0.0s\n",
            "[CV 3/5] END ........C=10, gamma=1, kernel=poly;, score=0.857 total time=   0.0s\n",
            "[CV 4/5] END ........C=10, gamma=1, kernel=poly;, score=0.905 total time=   0.0s\n",
            "[CV 5/5] END ........C=10, gamma=1, kernel=poly;, score=0.952 total time=   0.0s\n",
            "[CV 1/5] END .........C=10, gamma=1, kernel=rbf;, score=1.000 total time=   0.0s\n",
            "[CV 2/5] END .........C=10, gamma=1, kernel=rbf;, score=0.905 total time=   0.0s\n",
            "[CV 3/5] END .........C=10, gamma=1, kernel=rbf;, score=0.905 total time=   0.0s\n",
            "[CV 4/5] END .........C=10, gamma=1, kernel=rbf;, score=0.905 total time=   0.0s\n",
            "[CV 5/5] END .........C=10, gamma=1, kernel=rbf;, score=0.952 total time=   0.0s\n",
            "[CV 1/5] END ....C=10, gamma=0.1, kernel=linear;, score=1.000 total time=   0.0s\n",
            "[CV 2/5] END ....C=10, gamma=0.1, kernel=linear;, score=1.000 total time=   0.0s\n",
            "[CV 3/5] END ....C=10, gamma=0.1, kernel=linear;, score=0.905 total time=   0.0s\n",
            "[CV 4/5] END ....C=10, gamma=0.1, kernel=linear;, score=0.905 total time=   0.0s\n",
            "[CV 5/5] END ....C=10, gamma=0.1, kernel=linear;, score=0.952 total time=   0.0s\n",
            "[CV 1/5] END ......C=10, gamma=0.1, kernel=poly;, score=1.000 total time=   0.0s\n",
            "[CV 2/5] END ......C=10, gamma=0.1, kernel=poly;, score=0.952 total time=   0.0s\n",
            "[CV 3/5] END ......C=10, gamma=0.1, kernel=poly;, score=0.857 total time=   0.0s\n",
            "[CV 4/5] END ......C=10, gamma=0.1, kernel=poly;, score=0.905 total time=   0.0s\n",
            "[CV 5/5] END ......C=10, gamma=0.1, kernel=poly;, score=0.952 total time=   0.0s\n",
            "[CV 1/5] END .......C=10, gamma=0.1, kernel=rbf;, score=1.000 total time=   0.0s\n",
            "[CV 2/5] END .......C=10, gamma=0.1, kernel=rbf;, score=1.000 total time=   0.0s\n",
            "[CV 3/5] END .......C=10, gamma=0.1, kernel=rbf;, score=0.905 total time=   0.0s\n",
            "[CV 4/5] END .......C=10, gamma=0.1, kernel=rbf;, score=0.905 total time=   0.0s\n",
            "[CV 5/5] END .......C=10, gamma=0.1, kernel=rbf;, score=0.952 total time=   0.0s\n",
            "[CV 1/5] END ...C=10, gamma=0.01, kernel=linear;, score=1.000 total time=   0.0s\n",
            "[CV 2/5] END ...C=10, gamma=0.01, kernel=linear;, score=1.000 total time=   0.0s\n",
            "[CV 3/5] END ...C=10, gamma=0.01, kernel=linear;, score=0.905 total time=   0.0s\n",
            "[CV 4/5] END ...C=10, gamma=0.01, kernel=linear;, score=0.905 total time=   0.0s\n",
            "[CV 5/5] END ...C=10, gamma=0.01, kernel=linear;, score=0.952 total time=   0.0s\n",
            "[CV 1/5] END .....C=10, gamma=0.01, kernel=poly;, score=0.952 total time=   0.0s\n",
            "[CV 2/5] END .....C=10, gamma=0.01, kernel=poly;, score=1.000 total time=   0.0s\n",
            "[CV 3/5] END .....C=10, gamma=0.01, kernel=poly;, score=0.857 total time=   0.0s\n",
            "[CV 4/5] END .....C=10, gamma=0.01, kernel=poly;, score=0.905 total time=   0.0s\n",
            "[CV 5/5] END .....C=10, gamma=0.01, kernel=poly;, score=1.000 total time=   0.0s\n",
            "[CV 1/5] END ......C=10, gamma=0.01, kernel=rbf;, score=1.000 total time=   0.0s\n",
            "[CV 2/5] END ......C=10, gamma=0.01, kernel=rbf;, score=1.000 total time=   0.0s\n",
            "[CV 3/5] END ......C=10, gamma=0.01, kernel=rbf;, score=0.905 total time=   0.0s\n",
            "[CV 4/5] END ......C=10, gamma=0.01, kernel=rbf;, score=0.905 total time=   0.0s\n",
            "[CV 5/5] END ......C=10, gamma=0.01, kernel=rbf;, score=1.000 total time=   0.0s\n",
            "[CV 1/5] END ..C=10, gamma=0.001, kernel=linear;, score=1.000 total time=   0.0s\n",
            "[CV 2/5] END ..C=10, gamma=0.001, kernel=linear;, score=1.000 total time=   0.0s\n",
            "[CV 3/5] END ..C=10, gamma=0.001, kernel=linear;, score=0.905 total time=   0.0s\n",
            "[CV 4/5] END ..C=10, gamma=0.001, kernel=linear;, score=0.905 total time=   0.0s\n",
            "[CV 5/5] END ..C=10, gamma=0.001, kernel=linear;, score=0.952 total time=   0.0s\n",
            "[CV 1/5] END ....C=10, gamma=0.001, kernel=poly;, score=0.333 total time=   0.0s\n",
            "[CV 2/5] END ....C=10, gamma=0.001, kernel=poly;, score=0.333 total time=   0.0s\n",
            "[CV 3/5] END ....C=10, gamma=0.001, kernel=poly;, score=0.571 total time=   0.0s\n",
            "[CV 4/5] END ....C=10, gamma=0.001, kernel=poly;, score=0.571 total time=   0.0s\n",
            "[CV 5/5] END ....C=10, gamma=0.001, kernel=poly;, score=0.667 total time=   0.0s\n",
            "[CV 1/5] END .....C=10, gamma=0.001, kernel=rbf;, score=0.952 total time=   0.0s\n",
            "[CV 2/5] END .....C=10, gamma=0.001, kernel=rbf;, score=0.810 total time=   0.0s\n",
            "[CV 3/5] END .....C=10, gamma=0.001, kernel=rbf;, score=0.857 total time=   0.0s\n",
            "[CV 4/5] END .....C=10, gamma=0.001, kernel=rbf;, score=0.857 total time=   0.0s\n",
            "[CV 5/5] END .....C=10, gamma=0.001, kernel=rbf;, score=0.905 total time=   0.0s\n",
            "[CV 1/5] END .C=10, gamma=0.0001, kernel=linear;, score=1.000 total time=   0.0s\n",
            "[CV 2/5] END .C=10, gamma=0.0001, kernel=linear;, score=1.000 total time=   0.0s\n",
            "[CV 3/5] END .C=10, gamma=0.0001, kernel=linear;, score=0.905 total time=   0.0s\n",
            "[CV 4/5] END .C=10, gamma=0.0001, kernel=linear;, score=0.905 total time=   0.0s\n",
            "[CV 5/5] END .C=10, gamma=0.0001, kernel=linear;, score=0.952 total time=   0.0s\n",
            "[CV 1/5] END ...C=10, gamma=0.0001, kernel=poly;, score=0.333 total time=   0.0s\n",
            "[CV 2/5] END ...C=10, gamma=0.0001, kernel=poly;, score=0.333 total time=   0.0s\n",
            "[CV 3/5] END ...C=10, gamma=0.0001, kernel=poly;, score=0.571 total time=   0.0s\n",
            "[CV 4/5] END ...C=10, gamma=0.0001, kernel=poly;, score=0.571 total time=   0.0s\n",
            "[CV 5/5] END ...C=10, gamma=0.0001, kernel=poly;, score=0.667 total time=   0.0s\n",
            "[CV 1/5] END ....C=10, gamma=0.0001, kernel=rbf;, score=0.714 total time=   0.0s\n",
            "[CV 2/5] END ....C=10, gamma=0.0001, kernel=rbf;, score=0.714 total time=   0.0s\n",
            "[CV 3/5] END ....C=10, gamma=0.0001, kernel=rbf;, score=0.714 total time=   0.0s\n",
            "[CV 4/5] END ....C=10, gamma=0.0001, kernel=rbf;, score=0.714 total time=   0.0s\n",
            "[CV 5/5] END ....C=10, gamma=0.0001, kernel=rbf;, score=0.714 total time=   0.0s\n",
            "[CV 1/5] END .....C=100, gamma=1, kernel=linear;, score=1.000 total time=   0.0s\n",
            "[CV 2/5] END .....C=100, gamma=1, kernel=linear;, score=0.952 total time=   0.0s\n",
            "[CV 3/5] END .....C=100, gamma=1, kernel=linear;, score=0.857 total time=   0.0s\n",
            "[CV 4/5] END .....C=100, gamma=1, kernel=linear;, score=0.905 total time=   0.0s\n",
            "[CV 5/5] END .....C=100, gamma=1, kernel=linear;, score=0.952 total time=   0.0s\n",
            "[CV 1/5] END .......C=100, gamma=1, kernel=poly;, score=1.000 total time=   0.2s\n",
            "[CV 2/5] END .......C=100, gamma=1, kernel=poly;, score=0.905 total time=   0.1s\n",
            "[CV 3/5] END .......C=100, gamma=1, kernel=poly;, score=0.857 total time=   0.0s\n",
            "[CV 4/5] END .......C=100, gamma=1, kernel=poly;, score=0.905 total time=   0.0s\n",
            "[CV 5/5] END .......C=100, gamma=1, kernel=poly;, score=0.952 total time=   0.1s\n",
            "[CV 1/5] END ........C=100, gamma=1, kernel=rbf;, score=1.000 total time=   0.0s\n",
            "[CV 2/5] END ........C=100, gamma=1, kernel=rbf;, score=0.905 total time=   0.0s\n",
            "[CV 3/5] END ........C=100, gamma=1, kernel=rbf;, score=0.857 total time=   0.0s\n",
            "[CV 4/5] END ........C=100, gamma=1, kernel=rbf;, score=0.905 total time=   0.0s\n",
            "[CV 5/5] END ........C=100, gamma=1, kernel=rbf;, score=0.952 total time=   0.0s\n",
            "[CV 1/5] END ...C=100, gamma=0.1, kernel=linear;, score=1.000 total time=   0.0s\n",
            "[CV 2/5] END ...C=100, gamma=0.1, kernel=linear;, score=0.952 total time=   0.0s\n",
            "[CV 3/5] END ...C=100, gamma=0.1, kernel=linear;, score=0.857 total time=   0.0s\n",
            "[CV 4/5] END ...C=100, gamma=0.1, kernel=linear;, score=0.905 total time=   0.0s\n",
            "[CV 5/5] END ...C=100, gamma=0.1, kernel=linear;, score=0.952 total time=   0.0s\n",
            "[CV 1/5] END .....C=100, gamma=0.1, kernel=poly;, score=1.000 total time=   0.0s\n",
            "[CV 2/5] END .....C=100, gamma=0.1, kernel=poly;, score=0.952 total time=   0.0s\n",
            "[CV 3/5] END .....C=100, gamma=0.1, kernel=poly;, score=0.857 total time=   0.0s\n",
            "[CV 4/5] END .....C=100, gamma=0.1, kernel=poly;, score=0.905 total time=   0.0s\n",
            "[CV 5/5] END .....C=100, gamma=0.1, kernel=poly;, score=0.952 total time=   0.0s\n",
            "[CV 1/5] END ......C=100, gamma=0.1, kernel=rbf;, score=1.000 total time=   0.0s\n",
            "[CV 2/5] END ......C=100, gamma=0.1, kernel=rbf;, score=0.905 total time=   0.0s\n",
            "[CV 3/5] END ......C=100, gamma=0.1, kernel=rbf;, score=0.857 total time=   0.0s\n",
            "[CV 4/5] END ......C=100, gamma=0.1, kernel=rbf;, score=0.905 total time=   0.0s\n",
            "[CV 5/5] END ......C=100, gamma=0.1, kernel=rbf;, score=0.952 total time=   0.0s\n",
            "[CV 1/5] END ..C=100, gamma=0.01, kernel=linear;, score=1.000 total time=   0.0s\n",
            "[CV 2/5] END ..C=100, gamma=0.01, kernel=linear;, score=0.952 total time=   0.0s\n",
            "[CV 3/5] END ..C=100, gamma=0.01, kernel=linear;, score=0.857 total time=   0.0s\n",
            "[CV 4/5] END ..C=100, gamma=0.01, kernel=linear;, score=0.905 total time=   0.0s\n",
            "[CV 5/5] END ..C=100, gamma=0.01, kernel=linear;, score=0.952 total time=   0.0s\n",
            "[CV 1/5] END ....C=100, gamma=0.01, kernel=poly;, score=1.000 total time=   0.0s\n",
            "[CV 2/5] END ....C=100, gamma=0.01, kernel=poly;, score=1.000 total time=   0.0s\n",
            "[CV 3/5] END ....C=100, gamma=0.01, kernel=poly;, score=0.905 total time=   0.0s\n",
            "[CV 4/5] END ....C=100, gamma=0.01, kernel=poly;, score=0.905 total time=   0.0s\n",
            "[CV 5/5] END ....C=100, gamma=0.01, kernel=poly;, score=1.000 total time=   0.0s\n",
            "[CV 1/5] END .....C=100, gamma=0.01, kernel=rbf;, score=1.000 total time=   0.0s\n",
            "[CV 2/5] END .....C=100, gamma=0.01, kernel=rbf;, score=1.000 total time=   0.0s\n",
            "[CV 3/5] END .....C=100, gamma=0.01, kernel=rbf;, score=0.905 total time=   0.0s\n",
            "[CV 4/5] END .....C=100, gamma=0.01, kernel=rbf;, score=0.905 total time=   0.0s\n",
            "[CV 5/5] END .....C=100, gamma=0.01, kernel=rbf;, score=0.952 total time=   0.0s\n",
            "[CV 1/5] END .C=100, gamma=0.001, kernel=linear;, score=1.000 total time=   0.0s\n",
            "[CV 2/5] END .C=100, gamma=0.001, kernel=linear;, score=0.952 total time=   0.0s\n",
            "[CV 3/5] END .C=100, gamma=0.001, kernel=linear;, score=0.857 total time=   0.0s\n",
            "[CV 4/5] END .C=100, gamma=0.001, kernel=linear;, score=0.905 total time=   0.0s\n",
            "[CV 5/5] END .C=100, gamma=0.001, kernel=linear;, score=0.952 total time=   0.0s\n",
            "[CV 1/5] END ...C=100, gamma=0.001, kernel=poly;, score=0.619 total time=   0.0s\n",
            "[CV 2/5] END ...C=100, gamma=0.001, kernel=poly;, score=0.619 total time=   0.0s\n",
            "[CV 3/5] END ...C=100, gamma=0.001, kernel=poly;, score=0.571 total time=   0.0s\n",
            "[CV 4/5] END ...C=100, gamma=0.001, kernel=poly;, score=0.571 total time=   0.0s\n",
            "[CV 5/5] END ...C=100, gamma=0.001, kernel=poly;, score=0.714 total time=   0.0s\n",
            "[CV 1/5] END ....C=100, gamma=0.001, kernel=rbf;, score=1.000 total time=   0.0s\n",
            "[CV 2/5] END ....C=100, gamma=0.001, kernel=rbf;, score=1.000 total time=   0.0s\n",
            "[CV 3/5] END ....C=100, gamma=0.001, kernel=rbf;, score=0.905 total time=   0.0s\n",
            "[CV 4/5] END ....C=100, gamma=0.001, kernel=rbf;, score=0.905 total time=   0.0s\n",
            "[CV 5/5] END ....C=100, gamma=0.001, kernel=rbf;, score=1.000 total time=   0.0s\n",
            "[CV 1/5] END C=100, gamma=0.0001, kernel=linear;, score=1.000 total time=   0.0s\n",
            "[CV 2/5] END C=100, gamma=0.0001, kernel=linear;, score=0.952 total time=   0.0s\n",
            "[CV 3/5] END C=100, gamma=0.0001, kernel=linear;, score=0.857 total time=   0.0s\n",
            "[CV 4/5] END C=100, gamma=0.0001, kernel=linear;, score=0.905 total time=   0.0s\n",
            "[CV 5/5] END C=100, gamma=0.0001, kernel=linear;, score=0.952 total time=   0.0s\n",
            "[CV 1/5] END ..C=100, gamma=0.0001, kernel=poly;, score=0.333 total time=   0.0s\n",
            "[CV 2/5] END ..C=100, gamma=0.0001, kernel=poly;, score=0.333 total time=   0.0s\n",
            "[CV 3/5] END ..C=100, gamma=0.0001, kernel=poly;, score=0.571 total time=   0.0s\n",
            "[CV 4/5] END ..C=100, gamma=0.0001, kernel=poly;, score=0.571 total time=   0.0s\n",
            "[CV 5/5] END ..C=100, gamma=0.0001, kernel=poly;, score=0.667 total time=   0.0s\n",
            "[CV 1/5] END ...C=100, gamma=0.0001, kernel=rbf;, score=0.952 total time=   0.0s\n",
            "[CV 2/5] END ...C=100, gamma=0.0001, kernel=rbf;, score=0.810 total time=   0.0s\n",
            "[CV 3/5] END ...C=100, gamma=0.0001, kernel=rbf;, score=0.857 total time=   0.0s\n",
            "[CV 4/5] END ...C=100, gamma=0.0001, kernel=rbf;, score=0.857 total time=   0.0s\n",
            "[CV 5/5] END ...C=100, gamma=0.0001, kernel=rbf;, score=0.905 total time=   0.0s\n",
            "[CV 1/5] END ....C=1000, gamma=1, kernel=linear;, score=1.000 total time=   0.0s\n",
            "[CV 2/5] END ....C=1000, gamma=1, kernel=linear;, score=0.952 total time=   0.0s\n",
            "[CV 3/5] END ....C=1000, gamma=1, kernel=linear;, score=0.857 total time=   0.0s\n",
            "[CV 4/5] END ....C=1000, gamma=1, kernel=linear;, score=0.905 total time=   0.0s\n",
            "[CV 5/5] END ....C=1000, gamma=1, kernel=linear;, score=0.952 total time=   0.0s\n",
            "[CV 1/5] END ......C=1000, gamma=1, kernel=poly;, score=1.000 total time=   0.2s\n",
            "[CV 2/5] END ......C=1000, gamma=1, kernel=poly;, score=0.905 total time=   0.1s\n",
            "[CV 3/5] END ......C=1000, gamma=1, kernel=poly;, score=0.857 total time=   0.0s\n",
            "[CV 4/5] END ......C=1000, gamma=1, kernel=poly;, score=0.905 total time=   0.0s\n",
            "[CV 5/5] END ......C=1000, gamma=1, kernel=poly;, score=0.952 total time=   0.1s\n",
            "[CV 1/5] END .......C=1000, gamma=1, kernel=rbf;, score=1.000 total time=   0.0s\n",
            "[CV 2/5] END .......C=1000, gamma=1, kernel=rbf;, score=0.905 total time=   0.0s\n",
            "[CV 3/5] END .......C=1000, gamma=1, kernel=rbf;, score=0.857 total time=   0.0s\n",
            "[CV 4/5] END .......C=1000, gamma=1, kernel=rbf;, score=0.905 total time=   0.0s\n",
            "[CV 5/5] END .......C=1000, gamma=1, kernel=rbf;, score=0.952 total time=   0.0s\n",
            "[CV 1/5] END ..C=1000, gamma=0.1, kernel=linear;, score=1.000 total time=   0.0s\n",
            "[CV 2/5] END ..C=1000, gamma=0.1, kernel=linear;, score=0.952 total time=   0.0s\n",
            "[CV 3/5] END ..C=1000, gamma=0.1, kernel=linear;, score=0.857 total time=   0.0s\n",
            "[CV 4/5] END ..C=1000, gamma=0.1, kernel=linear;, score=0.905 total time=   0.0s\n",
            "[CV 5/5] END ..C=1000, gamma=0.1, kernel=linear;, score=0.952 total time=   0.0s\n",
            "[CV 1/5] END ....C=1000, gamma=0.1, kernel=poly;, score=1.000 total time=   0.0s\n",
            "[CV 2/5] END ....C=1000, gamma=0.1, kernel=poly;, score=0.905 total time=   0.0s\n",
            "[CV 3/5] END ....C=1000, gamma=0.1, kernel=poly;, score=0.857 total time=   0.0s\n",
            "[CV 4/5] END ....C=1000, gamma=0.1, kernel=poly;, score=0.905 total time=   0.0s\n",
            "[CV 5/5] END ....C=1000, gamma=0.1, kernel=poly;, score=0.952 total time=   0.0s\n",
            "[CV 1/5] END .....C=1000, gamma=0.1, kernel=rbf;, score=1.000 total time=   0.0s\n",
            "[CV 2/5] END .....C=1000, gamma=0.1, kernel=rbf;, score=0.905 total time=   0.0s\n",
            "[CV 3/5] END .....C=1000, gamma=0.1, kernel=rbf;, score=0.857 total time=   0.0s\n",
            "[CV 4/5] END .....C=1000, gamma=0.1, kernel=rbf;, score=0.905 total time=   0.0s\n",
            "[CV 5/5] END .....C=1000, gamma=0.1, kernel=rbf;, score=0.952 total time=   0.0s\n",
            "[CV 1/5] END .C=1000, gamma=0.01, kernel=linear;, score=1.000 total time=   0.0s\n",
            "[CV 2/5] END .C=1000, gamma=0.01, kernel=linear;, score=0.952 total time=   0.0s\n",
            "[CV 3/5] END .C=1000, gamma=0.01, kernel=linear;, score=0.857 total time=   0.0s\n",
            "[CV 4/5] END .C=1000, gamma=0.01, kernel=linear;, score=0.905 total time=   0.0s\n",
            "[CV 5/5] END .C=1000, gamma=0.01, kernel=linear;, score=0.952 total time=   0.0s\n",
            "[CV 1/5] END ...C=1000, gamma=0.01, kernel=poly;, score=1.000 total time=   0.0s\n",
            "[CV 2/5] END ...C=1000, gamma=0.01, kernel=poly;, score=1.000 total time=   0.0s\n",
            "[CV 3/5] END ...C=1000, gamma=0.01, kernel=poly;, score=0.857 total time=   0.0s\n",
            "[CV 4/5] END ...C=1000, gamma=0.01, kernel=poly;, score=0.905 total time=   0.0s\n",
            "[CV 5/5] END ...C=1000, gamma=0.01, kernel=poly;, score=0.952 total time=   0.0s\n",
            "[CV 1/5] END ....C=1000, gamma=0.01, kernel=rbf;, score=1.000 total time=   0.0s\n",
            "[CV 2/5] END ....C=1000, gamma=0.01, kernel=rbf;, score=1.000 total time=   0.0s\n",
            "[CV 3/5] END ....C=1000, gamma=0.01, kernel=rbf;, score=0.857 total time=   0.0s\n",
            "[CV 4/5] END ....C=1000, gamma=0.01, kernel=rbf;, score=0.905 total time=   0.0s\n",
            "[CV 5/5] END ....C=1000, gamma=0.01, kernel=rbf;, score=0.952 total time=   0.0s\n",
            "[CV 1/5] END C=1000, gamma=0.001, kernel=linear;, score=1.000 total time=   0.0s\n",
            "[CV 2/5] END C=1000, gamma=0.001, kernel=linear;, score=0.952 total time=   0.0s\n",
            "[CV 3/5] END C=1000, gamma=0.001, kernel=linear;, score=0.857 total time=   0.0s\n",
            "[CV 4/5] END C=1000, gamma=0.001, kernel=linear;, score=0.905 total time=   0.0s\n",
            "[CV 5/5] END C=1000, gamma=0.001, kernel=linear;, score=0.952 total time=   0.0s\n",
            "[CV 1/5] END ..C=1000, gamma=0.001, kernel=poly;, score=0.810 total time=   0.0s\n",
            "[CV 2/5] END ..C=1000, gamma=0.001, kernel=poly;, score=0.905 total time=   0.0s\n",
            "[CV 3/5] END ..C=1000, gamma=0.001, kernel=poly;, score=0.810 total time=   0.0s\n",
            "[CV 4/5] END ..C=1000, gamma=0.001, kernel=poly;, score=0.810 total time=   0.0s\n",
            "[CV 5/5] END ..C=1000, gamma=0.001, kernel=poly;, score=1.000 total time=   0.0s\n",
            "[CV 1/5] END ...C=1000, gamma=0.001, kernel=rbf;, score=1.000 total time=   0.0s\n",
            "[CV 2/5] END ...C=1000, gamma=0.001, kernel=rbf;, score=1.000 total time=   0.0s\n",
            "[CV 3/5] END ...C=1000, gamma=0.001, kernel=rbf;, score=0.905 total time=   0.0s\n",
            "[CV 4/5] END ...C=1000, gamma=0.001, kernel=rbf;, score=0.905 total time=   0.0s\n",
            "[CV 5/5] END ...C=1000, gamma=0.001, kernel=rbf;, score=0.952 total time=   0.0s\n",
            "[CV 1/5] END C=1000, gamma=0.0001, kernel=linear;, score=1.000 total time=   0.0s\n",
            "[CV 2/5] END C=1000, gamma=0.0001, kernel=linear;, score=0.952 total time=   0.0s\n",
            "[CV 3/5] END C=1000, gamma=0.0001, kernel=linear;, score=0.857 total time=   0.0s\n",
            "[CV 4/5] END C=1000, gamma=0.0001, kernel=linear;, score=0.905 total time=   0.0s\n",
            "[CV 5/5] END C=1000, gamma=0.0001, kernel=linear;, score=0.952 total time=   0.0s\n",
            "[CV 1/5] END .C=1000, gamma=0.0001, kernel=poly;, score=0.333 total time=   0.0s\n",
            "[CV 2/5] END .C=1000, gamma=0.0001, kernel=poly;, score=0.333 total time=   0.0s\n",
            "[CV 3/5] END .C=1000, gamma=0.0001, kernel=poly;, score=0.571 total time=   0.0s\n",
            "[CV 4/5] END .C=1000, gamma=0.0001, kernel=poly;, score=0.571 total time=   0.0s\n",
            "[CV 5/5] END .C=1000, gamma=0.0001, kernel=poly;, score=0.667 total time=   0.0s\n",
            "[CV 1/5] END ..C=1000, gamma=0.0001, kernel=rbf;, score=1.000 total time=   0.0s\n",
            "[CV 2/5] END ..C=1000, gamma=0.0001, kernel=rbf;, score=1.000 total time=   0.0s\n",
            "[CV 3/5] END ..C=1000, gamma=0.0001, kernel=rbf;, score=0.905 total time=   0.0s\n",
            "[CV 4/5] END ..C=1000, gamma=0.0001, kernel=rbf;, score=0.905 total time=   0.0s\n",
            "[CV 5/5] END ..C=1000, gamma=0.0001, kernel=rbf;, score=1.000 total time=   0.0s\n"
          ]
        },
        {
          "output_type": "execute_result",
          "data": {
            "text/plain": [
              "GridSearchCV(estimator=SVC(),\n",
              "             param_grid={'C': [0.1, 1, 10, 100, 1000],\n",
              "                         'gamma': [1, 0.1, 0.01, 0.001, 0.0001],\n",
              "                         'kernel': ['linear', 'poly', 'rbf']},\n",
              "             verbose=3)"
            ]
          },
          "metadata": {},
          "execution_count": 18
        }
      ]
    },
    {
      "cell_type": "code",
      "source": [
        "\n",
        "# print best parameter after tuning\n",
        "print(grid.best_params_)\n",
        "  \n",
        "# print how our model looks after hyper-parameter tuning\n",
        "print(grid.best_estimator_)"
      ],
      "metadata": {
        "colab": {
          "base_uri": "https://localhost:8080/"
        },
        "id": "9xpglRiX6Bv0",
        "outputId": "90e98a32-6e01-460a-e4f0-7da27bee7400"
      },
      "execution_count": 19,
      "outputs": [
        {
          "output_type": "stream",
          "name": "stdout",
          "text": [
            "{'C': 1, 'gamma': 1, 'kernel': 'linear'}\n",
            "SVC(C=1, gamma=1, kernel='linear')\n"
          ]
        }
      ]
    },
    {
      "cell_type": "code",
      "source": [
        "\n",
        "grid_predictions = grid.predict(X_test)\n",
        "  \n",
        "# print classification report\n",
        "print(classification_report(y_test, grid_predictions))"
      ],
      "metadata": {
        "colab": {
          "base_uri": "https://localhost:8080/"
        },
        "id": "6Ss3ZkEZ6D5P",
        "outputId": "e62bda04-477d-401f-db39-2724ddc30889"
      },
      "execution_count": 20,
      "outputs": [
        {
          "output_type": "stream",
          "name": "stdout",
          "text": [
            "              precision    recall  f1-score   support\n",
            "\n",
            "           0       1.00      1.00      1.00        13\n",
            "           1       1.00      1.00      1.00        20\n",
            "           2       1.00      1.00      1.00        12\n",
            "\n",
            "    accuracy                           1.00        45\n",
            "   macro avg       1.00      1.00      1.00        45\n",
            "weighted avg       1.00      1.00      1.00        45\n",
            "\n"
          ]
        }
      ]
    },
    {
      "cell_type": "markdown",
      "source": [
        "Random Search"
      ],
      "metadata": {
        "id": "gvLnERb18Qr3"
      }
    },
    {
      "cell_type": "code",
      "source": [
        "from sklearn.model_selection import RandomizedSearchCV\n",
        "  \n",
        "# defining parameter range\n",
        "param_rand = {'C': [0.1, 1, 10, 100, 1000], \n",
        "              'gamma': [1, 0.1, 0.01, 0.001, 0.0001],\n",
        "              'kernel': ['linear', 'poly', 'rbf']} \n",
        "  \n",
        "rand = RandomizedSearchCV(SVC(), param_rand, refit = True, verbose = 3)\n",
        "  \n",
        "# fitting the model for grid search\n",
        "rand.fit(X_train, y_train)"
      ],
      "metadata": {
        "colab": {
          "base_uri": "https://localhost:8080/"
        },
        "id": "juNnZwHl6b0B",
        "outputId": "6b9c4a08-5149-4b78-8e10-6401d243dc29"
      },
      "execution_count": 24,
      "outputs": [
        {
          "output_type": "stream",
          "name": "stdout",
          "text": [
            "Fitting 5 folds for each of 10 candidates, totalling 50 fits\n",
            "[CV 1/5] END C=1000, gamma=0.0001, kernel=linear;, score=1.000 total time=   0.0s\n",
            "[CV 2/5] END C=1000, gamma=0.0001, kernel=linear;, score=0.952 total time=   0.0s\n",
            "[CV 3/5] END C=1000, gamma=0.0001, kernel=linear;, score=0.857 total time=   0.0s\n",
            "[CV 4/5] END C=1000, gamma=0.0001, kernel=linear;, score=0.905 total time=   0.0s\n",
            "[CV 5/5] END C=1000, gamma=0.0001, kernel=linear;, score=0.952 total time=   0.0s\n",
            "[CV 1/5] END ....C=10, gamma=0.0001, kernel=rbf;, score=0.714 total time=   0.0s\n",
            "[CV 2/5] END ....C=10, gamma=0.0001, kernel=rbf;, score=0.714 total time=   0.0s\n",
            "[CV 3/5] END ....C=10, gamma=0.0001, kernel=rbf;, score=0.714 total time=   0.0s\n",
            "[CV 4/5] END ....C=10, gamma=0.0001, kernel=rbf;, score=0.714 total time=   0.0s\n",
            "[CV 5/5] END ....C=10, gamma=0.0001, kernel=rbf;, score=0.714 total time=   0.0s\n",
            "[CV 1/5] END ...C=10, gamma=0.01, kernel=linear;, score=1.000 total time=   0.0s\n",
            "[CV 2/5] END ...C=10, gamma=0.01, kernel=linear;, score=1.000 total time=   0.0s\n",
            "[CV 3/5] END ...C=10, gamma=0.01, kernel=linear;, score=0.905 total time=   0.0s\n",
            "[CV 4/5] END ...C=10, gamma=0.01, kernel=linear;, score=0.905 total time=   0.0s\n",
            "[CV 5/5] END ...C=10, gamma=0.01, kernel=linear;, score=0.952 total time=   0.0s\n",
            "[CV 1/5] END .....C=0.1, gamma=1, kernel=linear;, score=1.000 total time=   0.0s\n",
            "[CV 2/5] END .....C=0.1, gamma=1, kernel=linear;, score=1.000 total time=   0.0s\n",
            "[CV 3/5] END .....C=0.1, gamma=1, kernel=linear;, score=0.857 total time=   0.0s\n",
            "[CV 4/5] END .....C=0.1, gamma=1, kernel=linear;, score=0.952 total time=   0.0s\n",
            "[CV 5/5] END .....C=0.1, gamma=1, kernel=linear;, score=0.952 total time=   0.0s\n",
            "[CV 1/5] END .C=0.1, gamma=0.001, kernel=linear;, score=1.000 total time=   0.0s\n",
            "[CV 2/5] END .C=0.1, gamma=0.001, kernel=linear;, score=1.000 total time=   0.0s\n",
            "[CV 3/5] END .C=0.1, gamma=0.001, kernel=linear;, score=0.857 total time=   0.0s\n",
            "[CV 4/5] END .C=0.1, gamma=0.001, kernel=linear;, score=0.952 total time=   0.0s\n",
            "[CV 5/5] END .C=0.1, gamma=0.001, kernel=linear;, score=0.952 total time=   0.0s\n",
            "[CV 1/5] END ........C=10, gamma=1, kernel=poly;, score=1.000 total time=   0.0s\n",
            "[CV 2/5] END ........C=10, gamma=1, kernel=poly;, score=0.905 total time=   0.0s\n",
            "[CV 3/5] END ........C=10, gamma=1, kernel=poly;, score=0.857 total time=   0.0s\n",
            "[CV 4/5] END ........C=10, gamma=1, kernel=poly;, score=0.905 total time=   0.0s\n",
            "[CV 5/5] END ........C=10, gamma=1, kernel=poly;, score=0.952 total time=   0.0s\n",
            "[CV 1/5] END .....C=0.1, gamma=0.01, kernel=rbf;, score=0.714 total time=   0.0s\n",
            "[CV 2/5] END .....C=0.1, gamma=0.01, kernel=rbf;, score=0.714 total time=   0.0s\n",
            "[CV 3/5] END .....C=0.1, gamma=0.01, kernel=rbf;, score=0.714 total time=   0.0s\n",
            "[CV 4/5] END .....C=0.1, gamma=0.01, kernel=rbf;, score=0.714 total time=   0.0s\n",
            "[CV 5/5] END .....C=0.1, gamma=0.01, kernel=rbf;, score=0.714 total time=   0.0s\n",
            "[CV 1/5] END .......C=1, gamma=0.1, kernel=poly;, score=1.000 total time=   0.0s\n",
            "[CV 2/5] END .......C=1, gamma=0.1, kernel=poly;, score=1.000 total time=   0.0s\n",
            "[CV 3/5] END .......C=1, gamma=0.1, kernel=poly;, score=0.857 total time=   0.0s\n",
            "[CV 4/5] END .......C=1, gamma=0.1, kernel=poly;, score=0.905 total time=   0.0s\n",
            "[CV 5/5] END .......C=1, gamma=0.1, kernel=poly;, score=0.952 total time=   0.0s\n",
            "[CV 1/5] END ...C=0.1, gamma=0.1, kernel=linear;, score=1.000 total time=   0.0s\n",
            "[CV 2/5] END ...C=0.1, gamma=0.1, kernel=linear;, score=1.000 total time=   0.0s\n",
            "[CV 3/5] END ...C=0.1, gamma=0.1, kernel=linear;, score=0.857 total time=   0.0s\n",
            "[CV 4/5] END ...C=0.1, gamma=0.1, kernel=linear;, score=0.952 total time=   0.0s\n",
            "[CV 5/5] END ...C=0.1, gamma=0.1, kernel=linear;, score=0.952 total time=   0.0s\n",
            "[CV 1/5] END .C=1000, gamma=0.01, kernel=linear;, score=1.000 total time=   0.0s\n",
            "[CV 2/5] END .C=1000, gamma=0.01, kernel=linear;, score=0.952 total time=   0.0s\n",
            "[CV 3/5] END .C=1000, gamma=0.01, kernel=linear;, score=0.857 total time=   0.0s\n",
            "[CV 4/5] END .C=1000, gamma=0.01, kernel=linear;, score=0.905 total time=   0.0s\n",
            "[CV 5/5] END .C=1000, gamma=0.01, kernel=linear;, score=0.952 total time=   0.0s\n"
          ]
        },
        {
          "output_type": "execute_result",
          "data": {
            "text/plain": [
              "RandomizedSearchCV(estimator=SVC(),\n",
              "                   param_distributions={'C': [0.1, 1, 10, 100, 1000],\n",
              "                                        'gamma': [1, 0.1, 0.01, 0.001, 0.0001],\n",
              "                                        'kernel': ['linear', 'poly', 'rbf']},\n",
              "                   verbose=3)"
            ]
          },
          "metadata": {},
          "execution_count": 24
        }
      ]
    },
    {
      "cell_type": "code",
      "source": [
        "\n",
        "# print best parameter after tuning\n",
        "print(rand.best_params_)\n",
        "  \n",
        "# print how our model looks after hyper-parameter tuning\n",
        "print(rand.best_estimator_)"
      ],
      "metadata": {
        "colab": {
          "base_uri": "https://localhost:8080/"
        },
        "id": "FXQ5hjTs7t6S",
        "outputId": "ea865d96-47aa-4e84-bbef-ea8697ef2c2b"
      },
      "execution_count": 25,
      "outputs": [
        {
          "output_type": "stream",
          "name": "stdout",
          "text": [
            "{'kernel': 'linear', 'gamma': 0.01, 'C': 10}\n",
            "SVC(C=10, gamma=0.01, kernel='linear')\n"
          ]
        }
      ]
    },
    {
      "cell_type": "code",
      "source": [
        "\n",
        "rand_predictions = rand.predict(X_test)\n",
        "  \n",
        "# print classification report\n",
        "print(classification_report(y_test, rand_predictions))"
      ],
      "metadata": {
        "colab": {
          "base_uri": "https://localhost:8080/"
        },
        "id": "rX-1NZlR7t3A",
        "outputId": "d45ad03c-a29d-4f3b-898e-6a314ccc3d71"
      },
      "execution_count": 26,
      "outputs": [
        {
          "output_type": "stream",
          "name": "stdout",
          "text": [
            "              precision    recall  f1-score   support\n",
            "\n",
            "           0       1.00      1.00      1.00        13\n",
            "           1       1.00      0.90      0.95        20\n",
            "           2       0.86      1.00      0.92        12\n",
            "\n",
            "    accuracy                           0.96        45\n",
            "   macro avg       0.95      0.97      0.96        45\n",
            "weighted avg       0.96      0.96      0.96        45\n",
            "\n"
          ]
        }
      ]
    },
    {
      "cell_type": "code",
      "source": [],
      "metadata": {
        "id": "gCRPbdEz9HU6"
      },
      "execution_count": 26,
      "outputs": []
    }
  ]
}