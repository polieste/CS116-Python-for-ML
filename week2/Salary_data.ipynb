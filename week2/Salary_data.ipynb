{
  "nbformat": 4,
  "nbformat_minor": 0,
  "metadata": {
    "colab": {
      "provenance": [],
      "collapsed_sections": []
    },
    "kernelspec": {
      "name": "python3",
      "display_name": "Python 3"
    },
    "language_info": {
      "name": "python"
    }
  },
  "cells": [
    {
      "cell_type": "code",
      "source": [
        "from google.colab import drive\n",
        "drive.mount('/content/drive')"
      ],
      "metadata": {
        "colab": {
          "base_uri": "https://localhost:8080/"
        },
        "id": "hZ6yfhKqw7RL",
        "outputId": "39918c6e-d391-4de6-94c4-0534e3735480"
      },
      "execution_count": 2,
      "outputs": [
        {
          "output_type": "stream",
          "name": "stdout",
          "text": [
            "Drive already mounted at /content/drive; to attempt to forcibly remount, call drive.mount(\"/content/drive\", force_remount=True).\n"
          ]
        }
      ]
    },
    {
      "cell_type": "code",
      "execution_count": 4,
      "metadata": {
        "id": "6OXOmyaawNR6"
      },
      "outputs": [],
      "source": [
        "import numpy as np\n",
        "import matplotlib.pyplot as plt\n",
        "import pandas as pd"
      ]
    },
    {
      "cell_type": "markdown",
      "source": [
        "import data\n"
      ],
      "metadata": {
        "id": "kQYMwF_kyGw2"
      }
    },
    {
      "cell_type": "code",
      "source": [
        "dataset = pd.read_csv('/content/drive/MyDrive/CS116/Salary_Data.csv')\n",
        "X = dataset.iloc[:, :-1].values\n",
        "y = dataset.iloc[:, -1].values"
      ],
      "metadata": {
        "id": "uQWYHNjVw3dE"
      },
      "execution_count": 6,
      "outputs": []
    },
    {
      "cell_type": "code",
      "source": [
        "dataset.head()"
      ],
      "metadata": {
        "colab": {
          "base_uri": "https://localhost:8080/",
          "height": 206
        },
        "id": "hgG_uPldycVr",
        "outputId": "c22471eb-be85-416b-e3ae-72837b6d3359"
      },
      "execution_count": 7,
      "outputs": [
        {
          "output_type": "execute_result",
          "data": {
            "text/plain": [
              "   YearsExperience   Salary\n",
              "0              1.1  39343.0\n",
              "1              1.3  46205.0\n",
              "2              1.5  37731.0\n",
              "3              2.0  43525.0\n",
              "4              2.2  39891.0"
            ],
            "text/html": [
              "\n",
              "  <div id=\"df-9be35b62-a633-4cf3-91c5-c2fee28645ff\">\n",
              "    <div class=\"colab-df-container\">\n",
              "      <div>\n",
              "<style scoped>\n",
              "    .dataframe tbody tr th:only-of-type {\n",
              "        vertical-align: middle;\n",
              "    }\n",
              "\n",
              "    .dataframe tbody tr th {\n",
              "        vertical-align: top;\n",
              "    }\n",
              "\n",
              "    .dataframe thead th {\n",
              "        text-align: right;\n",
              "    }\n",
              "</style>\n",
              "<table border=\"1\" class=\"dataframe\">\n",
              "  <thead>\n",
              "    <tr style=\"text-align: right;\">\n",
              "      <th></th>\n",
              "      <th>YearsExperience</th>\n",
              "      <th>Salary</th>\n",
              "    </tr>\n",
              "  </thead>\n",
              "  <tbody>\n",
              "    <tr>\n",
              "      <th>0</th>\n",
              "      <td>1.1</td>\n",
              "      <td>39343.0</td>\n",
              "    </tr>\n",
              "    <tr>\n",
              "      <th>1</th>\n",
              "      <td>1.3</td>\n",
              "      <td>46205.0</td>\n",
              "    </tr>\n",
              "    <tr>\n",
              "      <th>2</th>\n",
              "      <td>1.5</td>\n",
              "      <td>37731.0</td>\n",
              "    </tr>\n",
              "    <tr>\n",
              "      <th>3</th>\n",
              "      <td>2.0</td>\n",
              "      <td>43525.0</td>\n",
              "    </tr>\n",
              "    <tr>\n",
              "      <th>4</th>\n",
              "      <td>2.2</td>\n",
              "      <td>39891.0</td>\n",
              "    </tr>\n",
              "  </tbody>\n",
              "</table>\n",
              "</div>\n",
              "      <button class=\"colab-df-convert\" onclick=\"convertToInteractive('df-9be35b62-a633-4cf3-91c5-c2fee28645ff')\"\n",
              "              title=\"Convert this dataframe to an interactive table.\"\n",
              "              style=\"display:none;\">\n",
              "        \n",
              "  <svg xmlns=\"http://www.w3.org/2000/svg\" height=\"24px\"viewBox=\"0 0 24 24\"\n",
              "       width=\"24px\">\n",
              "    <path d=\"M0 0h24v24H0V0z\" fill=\"none\"/>\n",
              "    <path d=\"M18.56 5.44l.94 2.06.94-2.06 2.06-.94-2.06-.94-.94-2.06-.94 2.06-2.06.94zm-11 1L8.5 8.5l.94-2.06 2.06-.94-2.06-.94L8.5 2.5l-.94 2.06-2.06.94zm10 10l.94 2.06.94-2.06 2.06-.94-2.06-.94-.94-2.06-.94 2.06-2.06.94z\"/><path d=\"M17.41 7.96l-1.37-1.37c-.4-.4-.92-.59-1.43-.59-.52 0-1.04.2-1.43.59L10.3 9.45l-7.72 7.72c-.78.78-.78 2.05 0 2.83L4 21.41c.39.39.9.59 1.41.59.51 0 1.02-.2 1.41-.59l7.78-7.78 2.81-2.81c.8-.78.8-2.07 0-2.86zM5.41 20L4 18.59l7.72-7.72 1.47 1.35L5.41 20z\"/>\n",
              "  </svg>\n",
              "      </button>\n",
              "      \n",
              "  <style>\n",
              "    .colab-df-container {\n",
              "      display:flex;\n",
              "      flex-wrap:wrap;\n",
              "      gap: 12px;\n",
              "    }\n",
              "\n",
              "    .colab-df-convert {\n",
              "      background-color: #E8F0FE;\n",
              "      border: none;\n",
              "      border-radius: 50%;\n",
              "      cursor: pointer;\n",
              "      display: none;\n",
              "      fill: #1967D2;\n",
              "      height: 32px;\n",
              "      padding: 0 0 0 0;\n",
              "      width: 32px;\n",
              "    }\n",
              "\n",
              "    .colab-df-convert:hover {\n",
              "      background-color: #E2EBFA;\n",
              "      box-shadow: 0px 1px 2px rgba(60, 64, 67, 0.3), 0px 1px 3px 1px rgba(60, 64, 67, 0.15);\n",
              "      fill: #174EA6;\n",
              "    }\n",
              "\n",
              "    [theme=dark] .colab-df-convert {\n",
              "      background-color: #3B4455;\n",
              "      fill: #D2E3FC;\n",
              "    }\n",
              "\n",
              "    [theme=dark] .colab-df-convert:hover {\n",
              "      background-color: #434B5C;\n",
              "      box-shadow: 0px 1px 3px 1px rgba(0, 0, 0, 0.15);\n",
              "      filter: drop-shadow(0px 1px 2px rgba(0, 0, 0, 0.3));\n",
              "      fill: #FFFFFF;\n",
              "    }\n",
              "  </style>\n",
              "\n",
              "      <script>\n",
              "        const buttonEl =\n",
              "          document.querySelector('#df-9be35b62-a633-4cf3-91c5-c2fee28645ff button.colab-df-convert');\n",
              "        buttonEl.style.display =\n",
              "          google.colab.kernel.accessAllowed ? 'block' : 'none';\n",
              "\n",
              "        async function convertToInteractive(key) {\n",
              "          const element = document.querySelector('#df-9be35b62-a633-4cf3-91c5-c2fee28645ff');\n",
              "          const dataTable =\n",
              "            await google.colab.kernel.invokeFunction('convertToInteractive',\n",
              "                                                     [key], {});\n",
              "          if (!dataTable) return;\n",
              "\n",
              "          const docLinkHtml = 'Like what you see? Visit the ' +\n",
              "            '<a target=\"_blank\" href=https://colab.research.google.com/notebooks/data_table.ipynb>data table notebook</a>'\n",
              "            + ' to learn more about interactive tables.';\n",
              "          element.innerHTML = '';\n",
              "          dataTable['output_type'] = 'display_data';\n",
              "          await google.colab.output.renderOutput(dataTable, element);\n",
              "          const docLink = document.createElement('div');\n",
              "          docLink.innerHTML = docLinkHtml;\n",
              "          element.appendChild(docLink);\n",
              "        }\n",
              "      </script>\n",
              "    </div>\n",
              "  </div>\n",
              "  "
            ]
          },
          "metadata": {},
          "execution_count": 7
        }
      ]
    },
    {
      "cell_type": "markdown",
      "source": [
        "Split data"
      ],
      "metadata": {
        "id": "LaYShVjt86HF"
      }
    },
    {
      "cell_type": "code",
      "source": [
        "from sklearn.model_selection import train_test_split\n",
        "X_train, X_test, y_train, y_test = train_test_split(X, y, test_size = 0.3, random_state = 0)\n",
        "X_train, X_val, y_train, y_val = train_test_split(X_train, y_train, test_size = 0.3, random_state = 0)"
      ],
      "metadata": {
        "id": "c5_8_NitxuoZ"
      },
      "execution_count": 71,
      "outputs": []
    },
    {
      "cell_type": "markdown",
      "source": [
        "Predict\n"
      ],
      "metadata": {
        "id": "S8SQUQm4yK6M"
      }
    },
    {
      "cell_type": "code",
      "source": [
        "from sklearn.linear_model import LinearRegression\n",
        "from sklearn.svm import SVR\n",
        "from sklearn.ensemble import RandomForestRegressor\n",
        "from sklearn.svm import SVR\n",
        "\n",
        "regressor1 = LinearRegression()\n",
        "regressor1.fit(X_train, y_train)\n",
        "\n",
        "regressor2 = RandomForestRegressor()\n",
        "regressor2.fit(X_train, y_train)\n",
        "\n",
        "regressor3 = SVR(kernel='linear')\n",
        "regressor3.fit(X_train, y_train)\n",
        "\n",
        "regressor4 = SVR(kernel='rbf')\n",
        "regressor4.fit(X_train, y_train)\n",
        "\n",
        "regressor5 = SVR(kernel='poly')\n",
        "regressor5.fit(X_train, y_train)\n"
      ],
      "metadata": {
        "colab": {
          "base_uri": "https://localhost:8080/"
        },
        "id": "DxKnRCsNx80H",
        "outputId": "0acb5a46-f8a3-410f-dab4-dc91ff8138c6"
      },
      "execution_count": 72,
      "outputs": [
        {
          "output_type": "execute_result",
          "data": {
            "text/plain": [
              "SVR(kernel='poly')"
            ]
          },
          "metadata": {},
          "execution_count": 72
        }
      ]
    },
    {
      "cell_type": "code",
      "source": [
        "y_pred1 = regressor1.predict(X_test)\n",
        "y_pred2 = regressor2.predict(X_test)\n",
        "y_pred3 = regressor3.predict(X_test)\n",
        "y_pred4 = regressor4.predict(X_test)\n",
        "y_pred5 = regressor5.predict(X_test)"
      ],
      "metadata": {
        "id": "0Z1zbcm1x-lC"
      },
      "execution_count": 73,
      "outputs": []
    },
    {
      "cell_type": "code",
      "source": [
        "y_result1= regressor1.predict(X_val)\n",
        "y_result2= regressor2.predict(X_val)\n",
        "y_result3= regressor3.predict(X_val)\n",
        "y_result4= regressor4.predict(X_val)\n",
        "y_result5= regressor5.predict(X_val)"
      ],
      "metadata": {
        "id": "FdW7Qg2C00hQ"
      },
      "execution_count": 74,
      "outputs": []
    },
    {
      "cell_type": "markdown",
      "source": [
        "Loss function"
      ],
      "metadata": {
        "id": "3E5m3gnsyjO_"
      }
    },
    {
      "cell_type": "code",
      "source": [
        "from sklearn.metrics import mean_squared_error"
      ],
      "metadata": {
        "id": "UP9M_vVQykyh"
      },
      "execution_count": 75,
      "outputs": []
    },
    {
      "cell_type": "code",
      "source": [
        "loss_test1 = mean_squared_error(y_test,y_pred1)\n",
        "loss_test1"
      ],
      "metadata": {
        "colab": {
          "base_uri": "https://localhost:8080/"
        },
        "id": "1XWHohYH5S9b",
        "outputId": "8dd4c489-3cee-40ec-ca6b-cb0d88304b8f"
      },
      "execution_count": 76,
      "outputs": [
        {
          "output_type": "execute_result",
          "data": {
            "text/plain": [
              "31518783.133549973"
            ]
          },
          "metadata": {},
          "execution_count": 76
        }
      ]
    },
    {
      "cell_type": "code",
      "source": [
        "loss_test2 = mean_squared_error(y_test,y_pred2)\n",
        "loss_test2"
      ],
      "metadata": {
        "colab": {
          "base_uri": "https://localhost:8080/"
        },
        "id": "ELp5kTvz5WSn",
        "outputId": "47985af6-4d2d-47b8-9f6b-372dd71225d2"
      },
      "execution_count": 77,
      "outputs": [
        {
          "output_type": "execute_result",
          "data": {
            "text/plain": [
              "78610524.18632227"
            ]
          },
          "metadata": {},
          "execution_count": 77
        }
      ]
    },
    {
      "cell_type": "code",
      "source": [
        "loss_test3 = mean_squared_error(y_test,y_pred3)\n",
        "loss_test3"
      ],
      "metadata": {
        "colab": {
          "base_uri": "https://localhost:8080/"
        },
        "id": "TFk-jA5e5Wjq",
        "outputId": "5e9de942-9e31-4340-d51a-fd529e474a93"
      },
      "execution_count": 78,
      "outputs": [
        {
          "output_type": "execute_result",
          "data": {
            "text/plain": [
              "1194063209.8721666"
            ]
          },
          "metadata": {},
          "execution_count": 78
        }
      ]
    },
    {
      "cell_type": "code",
      "source": [
        "loss_test4 = mean_squared_error(y_test,y_pred4)\n",
        "loss_test4"
      ],
      "metadata": {
        "colab": {
          "base_uri": "https://localhost:8080/"
        },
        "id": "ISzR-lI15WyH",
        "outputId": "32b3cfe1-398e-471e-d7f0-28dba0886bb1"
      },
      "execution_count": 79,
      "outputs": [
        {
          "output_type": "execute_result",
          "data": {
            "text/plain": [
              "1200586784.7980175"
            ]
          },
          "metadata": {},
          "execution_count": 79
        }
      ]
    },
    {
      "cell_type": "code",
      "source": [
        "loss_test5 = mean_squared_error(y_test,y_pred5)\n",
        "loss_test5"
      ],
      "metadata": {
        "colab": {
          "base_uri": "https://localhost:8080/"
        },
        "id": "r-__2bsB5XGD",
        "outputId": "eb8ee37f-751d-4170-9355-392c3cfc77f9"
      },
      "execution_count": 80,
      "outputs": [
        {
          "output_type": "execute_result",
          "data": {
            "text/plain": [
              "893841859.0776677"
            ]
          },
          "metadata": {},
          "execution_count": 80
        }
      ]
    },
    {
      "cell_type": "code",
      "source": [
        "loss_val1 = mean_squared_error(y_val,y_result1)\n",
        "loss_val1"
      ],
      "metadata": {
        "colab": {
          "base_uri": "https://localhost:8080/"
        },
        "id": "i74XW9no06qn",
        "outputId": "4c2adbf4-3aa9-4bbc-ef2a-ef5d407e2d36"
      },
      "execution_count": 81,
      "outputs": [
        {
          "output_type": "execute_result",
          "data": {
            "text/plain": [
              "35146930.42543851"
            ]
          },
          "metadata": {},
          "execution_count": 81
        }
      ]
    },
    {
      "cell_type": "code",
      "source": [
        "loss_val2 = mean_squared_error(y_val,y_result2)\n",
        "loss_val2"
      ],
      "metadata": {
        "colab": {
          "base_uri": "https://localhost:8080/"
        },
        "id": "tMcjuJWm5Zs9",
        "outputId": "df02bc35-d9dd-42aa-c730-e64b30c9e9df"
      },
      "execution_count": 82,
      "outputs": [
        {
          "output_type": "execute_result",
          "data": {
            "text/plain": [
              "66434594.569342904"
            ]
          },
          "metadata": {},
          "execution_count": 82
        }
      ]
    },
    {
      "cell_type": "code",
      "source": [
        "loss_val3 = mean_squared_error(y_val,y_result3)\n",
        "loss_val3"
      ],
      "metadata": {
        "colab": {
          "base_uri": "https://localhost:8080/"
        },
        "id": "kZnV33Az5ar4",
        "outputId": "5e60aa6a-6808-4601-cc26-4c64c3d365a6"
      },
      "execution_count": 83,
      "outputs": [
        {
          "output_type": "execute_result",
          "data": {
            "text/plain": [
              "626714090.5316571"
            ]
          },
          "metadata": {},
          "execution_count": 83
        }
      ]
    },
    {
      "cell_type": "code",
      "source": [
        "loss_val4 = mean_squared_error(y_val,y_result4)\n",
        "loss_val4"
      ],
      "metadata": {
        "colab": {
          "base_uri": "https://localhost:8080/"
        },
        "id": "zqeMEAE05bK1",
        "outputId": "3a38301c-8ddd-4c07-e3fd-d62f9e45ce79"
      },
      "execution_count": 84,
      "outputs": [
        {
          "output_type": "execute_result",
          "data": {
            "text/plain": [
              "630474935.1961511"
            ]
          },
          "metadata": {},
          "execution_count": 84
        }
      ]
    },
    {
      "cell_type": "code",
      "source": [
        "loss_val5 = mean_squared_error(y_val,y_result5)\n",
        "loss_val5"
      ],
      "metadata": {
        "colab": {
          "base_uri": "https://localhost:8080/"
        },
        "id": "Aa4aAUxa5bgJ",
        "outputId": "55909dc8-b22c-4769-8a4d-112dd66ef503"
      },
      "execution_count": 85,
      "outputs": [
        {
          "output_type": "execute_result",
          "data": {
            "text/plain": [
              "465885032.5426184"
            ]
          },
          "metadata": {},
          "execution_count": 85
        }
      ]
    },
    {
      "cell_type": "markdown",
      "source": [
        "Bảng so sánh loss value xét trên data 'Salary_Data.csv'![image.png](data:image/png;base64,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)"
      ],
      "metadata": {
        "id": "i-oT89Nn6fa8"
      }
    },
    {
      "cell_type": "markdown",
      "source": [
        "Nhận xét: Có thể thấy ở bộ dữ liệu này giá trị hàm loss của các mô hình khá cao, tuy nhiên kết quả đường boundary trả về vẫn khá tốt. Lý do là bởi vì dữ liệu được đưa vào khá ít dẫn đến việc tập train bị thiếu dữ liệu để học, cũng như tập test quá ít điểm nên việc kẻ đường line chia các khu dữ liệu khá dễ dàng."
      ],
      "metadata": {
        "id": "e5-pXMsd8f-M"
      }
    }
  ]
}