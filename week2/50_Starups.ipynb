{
  "nbformat": 4,
  "nbformat_minor": 0,
  "metadata": {
    "colab": {
      "provenance": []
    },
    "kernelspec": {
      "name": "python3",
      "display_name": "Python 3"
    },
    "language_info": {
      "name": "python"
    }
  },
  "cells": [
    {
      "cell_type": "code",
      "source": [
        "from google.colab import drive\n",
        "drive.mount('/content/drive')"
      ],
      "metadata": {
        "colab": {
          "base_uri": "https://localhost:8080/"
        },
        "id": "4FmAHJlxAdgF",
        "outputId": "da68d85e-92dc-4001-ea41-fd6ab504ddb4"
      },
      "execution_count": 1,
      "outputs": [
        {
          "output_type": "stream",
          "name": "stdout",
          "text": [
            "Mounted at /content/drive\n"
          ]
        }
      ]
    },
    {
      "cell_type": "code",
      "execution_count": 2,
      "metadata": {
        "id": "7UN_7L6nAHQn"
      },
      "outputs": [],
      "source": [
        "import numpy as np\n",
        "import matplotlib.pyplot as plt\n",
        "import pandas as pd"
      ]
    },
    {
      "cell_type": "markdown",
      "source": [
        "Import data"
      ],
      "metadata": {
        "id": "wypVM754CDem"
      }
    },
    {
      "cell_type": "code",
      "source": [
        "dataset = pd.read_csv('/content/drive/MyDrive/CS116/50_Startups.csv')\n",
        "X = dataset.iloc[:, :-1].values\n",
        "y = dataset.iloc[:, -1].values\n",
        "X"
      ],
      "metadata": {
        "colab": {
          "base_uri": "https://localhost:8080/"
        },
        "id": "YL6limDCAMcY",
        "outputId": "0a138ee2-e870-49bd-ff81-14e436b26a9a"
      },
      "execution_count": 3,
      "outputs": [
        {
          "output_type": "execute_result",
          "data": {
            "text/plain": [
              "array([[165349.2, 136897.8, 471784.1, 'New York'],\n",
              "       [162597.7, 151377.59, 443898.53, 'California'],\n",
              "       [153441.51, 101145.55, 407934.54, 'Florida'],\n",
              "       [144372.41, 118671.85, 383199.62, 'New York'],\n",
              "       [142107.34, 91391.77, 366168.42, 'Florida'],\n",
              "       [131876.9, 99814.71, 362861.36, 'New York'],\n",
              "       [134615.46, 147198.87, 127716.82, 'California'],\n",
              "       [130298.13, 145530.06, 323876.68, 'Florida'],\n",
              "       [120542.52, 148718.95, 311613.29, 'New York'],\n",
              "       [123334.88, 108679.17, 304981.62, 'California'],\n",
              "       [101913.08, 110594.11, 229160.95, 'Florida'],\n",
              "       [100671.96, 91790.61, 249744.55, 'California'],\n",
              "       [93863.75, 127320.38, 249839.44, 'Florida'],\n",
              "       [91992.39, 135495.07, 252664.93, 'California'],\n",
              "       [119943.24, 156547.42, 256512.92, 'Florida'],\n",
              "       [114523.61, 122616.84, 261776.23, 'New York'],\n",
              "       [78013.11, 121597.55, 264346.06, 'California'],\n",
              "       [94657.16, 145077.58, 282574.31, 'New York'],\n",
              "       [91749.16, 114175.79, 294919.57, 'Florida'],\n",
              "       [86419.7, 153514.11, 0.0, 'New York'],\n",
              "       [76253.86, 113867.3, 298664.47, 'California'],\n",
              "       [78389.47, 153773.43, 299737.29, 'New York'],\n",
              "       [73994.56, 122782.75, 303319.26, 'Florida'],\n",
              "       [67532.53, 105751.03, 304768.73, 'Florida'],\n",
              "       [77044.01, 99281.34, 140574.81, 'New York'],\n",
              "       [64664.71, 139553.16, 137962.62, 'California'],\n",
              "       [75328.87, 144135.98, 134050.07, 'Florida'],\n",
              "       [72107.6, 127864.55, 353183.81, 'New York'],\n",
              "       [66051.52, 182645.56, 118148.2, 'Florida'],\n",
              "       [65605.48, 153032.06, 107138.38, 'New York'],\n",
              "       [61994.48, 115641.28, 91131.24, 'Florida'],\n",
              "       [61136.38, 152701.92, 88218.23, 'New York'],\n",
              "       [63408.86, 129219.61, 46085.25, 'California'],\n",
              "       [55493.95, 103057.49, 214634.81, 'Florida'],\n",
              "       [46426.07, 157693.92, 210797.67, 'California'],\n",
              "       [46014.02, 85047.44, 205517.64, 'New York'],\n",
              "       [28663.76, 127056.21, 201126.82, 'Florida'],\n",
              "       [44069.95, 51283.14, 197029.42, 'California'],\n",
              "       [20229.59, 65947.93, 185265.1, 'New York'],\n",
              "       [38558.51, 82982.09, 174999.3, 'California'],\n",
              "       [28754.33, 118546.05, 172795.67, 'California'],\n",
              "       [27892.92, 84710.77, 164470.71, 'Florida'],\n",
              "       [23640.93, 96189.63, 148001.11, 'California'],\n",
              "       [15505.73, 127382.3, 35534.17, 'New York'],\n",
              "       [22177.74, 154806.14, 28334.72, 'California'],\n",
              "       [1000.23, 124153.04, 1903.93, 'New York'],\n",
              "       [1315.46, 115816.21, 297114.46, 'Florida'],\n",
              "       [0.0, 135426.92, 0.0, 'California'],\n",
              "       [542.05, 51743.15, 0.0, 'New York'],\n",
              "       [0.0, 116983.8, 45173.06, 'California']], dtype=object)"
            ]
          },
          "metadata": {},
          "execution_count": 3
        }
      ]
    },
    {
      "cell_type": "code",
      "source": [
        "from sklearn.compose import ColumnTransformer\n",
        "from sklearn.preprocessing import OneHotEncoder\n",
        "ct = ColumnTransformer(transformers=[('encoder', OneHotEncoder(), [3])], remainder='passthrough')\n",
        "X = np.array(ct.fit_transform(X))\n",
        "print(X)"
      ],
      "metadata": {
        "colab": {
          "base_uri": "https://localhost:8080/"
        },
        "id": "j8sDWc3sAQYv",
        "outputId": "ae0cf3b3-7e31-4b51-89ed-e35f47ba2e54"
      },
      "execution_count": 4,
      "outputs": [
        {
          "output_type": "stream",
          "name": "stdout",
          "text": [
            "[[0.0 0.0 1.0 165349.2 136897.8 471784.1]\n",
            " [1.0 0.0 0.0 162597.7 151377.59 443898.53]\n",
            " [0.0 1.0 0.0 153441.51 101145.55 407934.54]\n",
            " [0.0 0.0 1.0 144372.41 118671.85 383199.62]\n",
            " [0.0 1.0 0.0 142107.34 91391.77 366168.42]\n",
            " [0.0 0.0 1.0 131876.9 99814.71 362861.36]\n",
            " [1.0 0.0 0.0 134615.46 147198.87 127716.82]\n",
            " [0.0 1.0 0.0 130298.13 145530.06 323876.68]\n",
            " [0.0 0.0 1.0 120542.52 148718.95 311613.29]\n",
            " [1.0 0.0 0.0 123334.88 108679.17 304981.62]\n",
            " [0.0 1.0 0.0 101913.08 110594.11 229160.95]\n",
            " [1.0 0.0 0.0 100671.96 91790.61 249744.55]\n",
            " [0.0 1.0 0.0 93863.75 127320.38 249839.44]\n",
            " [1.0 0.0 0.0 91992.39 135495.07 252664.93]\n",
            " [0.0 1.0 0.0 119943.24 156547.42 256512.92]\n",
            " [0.0 0.0 1.0 114523.61 122616.84 261776.23]\n",
            " [1.0 0.0 0.0 78013.11 121597.55 264346.06]\n",
            " [0.0 0.0 1.0 94657.16 145077.58 282574.31]\n",
            " [0.0 1.0 0.0 91749.16 114175.79 294919.57]\n",
            " [0.0 0.0 1.0 86419.7 153514.11 0.0]\n",
            " [1.0 0.0 0.0 76253.86 113867.3 298664.47]\n",
            " [0.0 0.0 1.0 78389.47 153773.43 299737.29]\n",
            " [0.0 1.0 0.0 73994.56 122782.75 303319.26]\n",
            " [0.0 1.0 0.0 67532.53 105751.03 304768.73]\n",
            " [0.0 0.0 1.0 77044.01 99281.34 140574.81]\n",
            " [1.0 0.0 0.0 64664.71 139553.16 137962.62]\n",
            " [0.0 1.0 0.0 75328.87 144135.98 134050.07]\n",
            " [0.0 0.0 1.0 72107.6 127864.55 353183.81]\n",
            " [0.0 1.0 0.0 66051.52 182645.56 118148.2]\n",
            " [0.0 0.0 1.0 65605.48 153032.06 107138.38]\n",
            " [0.0 1.0 0.0 61994.48 115641.28 91131.24]\n",
            " [0.0 0.0 1.0 61136.38 152701.92 88218.23]\n",
            " [1.0 0.0 0.0 63408.86 129219.61 46085.25]\n",
            " [0.0 1.0 0.0 55493.95 103057.49 214634.81]\n",
            " [1.0 0.0 0.0 46426.07 157693.92 210797.67]\n",
            " [0.0 0.0 1.0 46014.02 85047.44 205517.64]\n",
            " [0.0 1.0 0.0 28663.76 127056.21 201126.82]\n",
            " [1.0 0.0 0.0 44069.95 51283.14 197029.42]\n",
            " [0.0 0.0 1.0 20229.59 65947.93 185265.1]\n",
            " [1.0 0.0 0.0 38558.51 82982.09 174999.3]\n",
            " [1.0 0.0 0.0 28754.33 118546.05 172795.67]\n",
            " [0.0 1.0 0.0 27892.92 84710.77 164470.71]\n",
            " [1.0 0.0 0.0 23640.93 96189.63 148001.11]\n",
            " [0.0 0.0 1.0 15505.73 127382.3 35534.17]\n",
            " [1.0 0.0 0.0 22177.74 154806.14 28334.72]\n",
            " [0.0 0.0 1.0 1000.23 124153.04 1903.93]\n",
            " [0.0 1.0 0.0 1315.46 115816.21 297114.46]\n",
            " [1.0 0.0 0.0 0.0 135426.92 0.0]\n",
            " [0.0 0.0 1.0 542.05 51743.15 0.0]\n",
            " [1.0 0.0 0.0 0.0 116983.8 45173.06]]\n"
          ]
        }
      ]
    },
    {
      "cell_type": "markdown",
      "source": [
        "Split data"
      ],
      "metadata": {
        "id": "FmnXNoUdCFRE"
      }
    },
    {
      "cell_type": "code",
      "source": [
        "from sklearn.model_selection import train_test_split\n",
        "X_train, X_test, y_train, y_test = train_test_split(X, y, test_size = 0.3, random_state = 0)\n",
        "X_train, X_val, y_train, y_val = train_test_split(X_train, y_train, test_size = 0.3, random_state = 0)"
      ],
      "metadata": {
        "id": "AAthev3_Aq8V"
      },
      "execution_count": 5,
      "outputs": []
    },
    {
      "cell_type": "markdown",
      "source": [
        "Train"
      ],
      "metadata": {
        "id": "6yLC681mCGZU"
      }
    },
    {
      "cell_type": "code",
      "source": [
        "from sklearn.linear_model import LinearRegression\n",
        "from sklearn.svm import SVR\n",
        "from sklearn.ensemble import RandomForestRegressor\n",
        "\n",
        "regressor1 = LinearRegression()\n",
        "regressor1.fit(X_train, y_train)\n",
        "\n",
        "regressor2 = RandomForestRegressor()\n",
        "regressor2.fit(X_train, y_train)\n",
        "\n",
        "regressor3 = SVR(kernel='linear')\n",
        "regressor3.fit(X_train, y_train)\n",
        "\n",
        "regressor4 = SVR(kernel='rbf')\n",
        "regressor4.fit(X_train, y_train)\n",
        "\n",
        "regressor5 = SVR(kernel='poly')\n",
        "regressor5.fit(X_train, y_train)"
      ],
      "metadata": {
        "colab": {
          "base_uri": "https://localhost:8080/"
        },
        "id": "L7mz1qODA004",
        "outputId": "b080ab59-b5f6-45f2-fd68-2cb507afaa7f"
      },
      "execution_count": 6,
      "outputs": [
        {
          "output_type": "execute_result",
          "data": {
            "text/plain": [
              "SVR(kernel='poly')"
            ]
          },
          "metadata": {},
          "execution_count": 6
        }
      ]
    },
    {
      "cell_type": "code",
      "source": [
        "y_pred1 = regressor1.predict(X_test)\n",
        "y_pred2 = regressor2.predict(X_test)\n",
        "y_pred3 = regressor3.predict(X_test)\n",
        "y_pred4 = regressor4.predict(X_test)\n",
        "y_pred5 = regressor5.predict(X_test)"
      ],
      "metadata": {
        "id": "q2UisLwVA20W"
      },
      "execution_count": 7,
      "outputs": []
    },
    {
      "cell_type": "code",
      "source": [
        "y_result1= regressor1.predict(X_val)\n",
        "y_result2= regressor2.predict(X_val)\n",
        "y_result3= regressor3.predict(X_val)\n",
        "y_result4= regressor4.predict(X_val)\n",
        "y_result5= regressor5.predict(X_val)"
      ],
      "metadata": {
        "id": "sVs7-v9MA3y7"
      },
      "execution_count": 8,
      "outputs": []
    },
    {
      "cell_type": "markdown",
      "source": [
        "Loss value"
      ],
      "metadata": {
        "id": "s-6sHgg1CH5J"
      }
    },
    {
      "cell_type": "code",
      "source": [
        "from sklearn.metrics import mean_squared_error"
      ],
      "metadata": {
        "id": "QX58qAlCA4_E"
      },
      "execution_count": 9,
      "outputs": []
    },
    {
      "cell_type": "code",
      "source": [
        "loss_test1 = mean_squared_error(y_test,y_pred1)\n",
        "loss_test1"
      ],
      "metadata": {
        "colab": {
          "base_uri": "https://localhost:8080/"
        },
        "id": "KRMAGaePA6uK",
        "outputId": "0e784c5a-f5d3-442e-a315-a6583d7ee725"
      },
      "execution_count": 10,
      "outputs": [
        {
          "output_type": "execute_result",
          "data": {
            "text/plain": [
              "92219531.10960242"
            ]
          },
          "metadata": {},
          "execution_count": 10
        }
      ]
    },
    {
      "cell_type": "code",
      "source": [
        "loss_test2 = mean_squared_error(y_test,y_pred2)\n",
        "loss_test2"
      ],
      "metadata": {
        "colab": {
          "base_uri": "https://localhost:8080/"
        },
        "id": "V9v3sFPEA6qA",
        "outputId": "4b2b6e87-edf1-4980-9b8c-5ea01493bcb5"
      },
      "execution_count": 11,
      "outputs": [
        {
          "output_type": "execute_result",
          "data": {
            "text/plain": [
              "66030348.22776637"
            ]
          },
          "metadata": {},
          "execution_count": 11
        }
      ]
    },
    {
      "cell_type": "code",
      "source": [
        "loss_test3 = mean_squared_error(y_test,y_pred3)\n",
        "loss_test3"
      ],
      "metadata": {
        "colab": {
          "base_uri": "https://localhost:8080/"
        },
        "id": "ERtHkemCA6mk",
        "outputId": "eaa9b718-6411-487f-d2d5-3b43e530734f"
      },
      "execution_count": 12,
      "outputs": [
        {
          "output_type": "execute_result",
          "data": {
            "text/plain": [
              "87035018.63832097"
            ]
          },
          "metadata": {},
          "execution_count": 12
        }
      ]
    },
    {
      "cell_type": "code",
      "source": [
        "loss_test4 = mean_squared_error(y_test,y_pred4)\n",
        "loss_test4"
      ],
      "metadata": {
        "colab": {
          "base_uri": "https://localhost:8080/"
        },
        "id": "wAho6jaeA6ji",
        "outputId": "d2e0e240-39db-4f62-bd40-c3df7143f9ec"
      },
      "execution_count": 13,
      "outputs": [
        {
          "output_type": "execute_result",
          "data": {
            "text/plain": [
              "1030911055.6372052"
            ]
          },
          "metadata": {},
          "execution_count": 13
        }
      ]
    },
    {
      "cell_type": "code",
      "source": [
        "loss_test5 = mean_squared_error(y_test,y_pred5)\n",
        "loss_test5"
      ],
      "metadata": {
        "colab": {
          "base_uri": "https://localhost:8080/"
        },
        "id": "TYIw_uSZA6f2",
        "outputId": "66bf0733-a307-43d4-d0db-f37cdf98ff64"
      },
      "execution_count": 14,
      "outputs": [
        {
          "output_type": "execute_result",
          "data": {
            "text/plain": [
              "1027271591.0004749"
            ]
          },
          "metadata": {},
          "execution_count": 14
        }
      ]
    },
    {
      "cell_type": "code",
      "source": [
        "loss_val1 = mean_squared_error(y_val,y_result1)\n",
        "loss_val1"
      ],
      "metadata": {
        "colab": {
          "base_uri": "https://localhost:8080/"
        },
        "id": "xuOiN5IYA6ay",
        "outputId": "56407bdf-b837-4070-c66e-4527e689e516"
      },
      "execution_count": 15,
      "outputs": [
        {
          "output_type": "execute_result",
          "data": {
            "text/plain": [
              "239477055.2312193"
            ]
          },
          "metadata": {},
          "execution_count": 15
        }
      ]
    },
    {
      "cell_type": "code",
      "source": [
        "loss_val2 = mean_squared_error(y_val,y_result2)\n",
        "loss_val2"
      ],
      "metadata": {
        "colab": {
          "base_uri": "https://localhost:8080/"
        },
        "id": "WerilcFGA6Vk",
        "outputId": "9469c4f8-fd13-4ed2-bc30-8f134bb1f57f"
      },
      "execution_count": 16,
      "outputs": [
        {
          "output_type": "execute_result",
          "data": {
            "text/plain": [
              "99686407.24154662"
            ]
          },
          "metadata": {},
          "execution_count": 16
        }
      ]
    },
    {
      "cell_type": "code",
      "source": [
        "loss_val3 = mean_squared_error(y_val,y_result3)\n",
        "loss_val3"
      ],
      "metadata": {
        "colab": {
          "base_uri": "https://localhost:8080/"
        },
        "id": "Ad1LtKBuA6QW",
        "outputId": "f3bb31bd-a708-4354-d325-f3749170d33e"
      },
      "execution_count": 17,
      "outputs": [
        {
          "output_type": "execute_result",
          "data": {
            "text/plain": [
              "157394708.99098495"
            ]
          },
          "metadata": {},
          "execution_count": 17
        }
      ]
    },
    {
      "cell_type": "code",
      "source": [
        "loss_val4 = mean_squared_error(y_val,y_result4)\n",
        "loss_val4"
      ],
      "metadata": {
        "colab": {
          "base_uri": "https://localhost:8080/"
        },
        "id": "NJxm-xRrA6L2",
        "outputId": "d89772b6-427d-4100-b555-853e55744d23"
      },
      "execution_count": 18,
      "outputs": [
        {
          "output_type": "execute_result",
          "data": {
            "text/plain": [
              "930848289.7909738"
            ]
          },
          "metadata": {},
          "execution_count": 18
        }
      ]
    },
    {
      "cell_type": "code",
      "source": [
        "loss_val5 = mean_squared_error(y_val,y_result5)\n",
        "loss_val5"
      ],
      "metadata": {
        "colab": {
          "base_uri": "https://localhost:8080/"
        },
        "id": "8-cCcihgA6It",
        "outputId": "4b9a8ea2-fbb9-4c2d-e9b1-45bce4c15133"
      },
      "execution_count": 19,
      "outputs": [
        {
          "output_type": "execute_result",
          "data": {
            "text/plain": [
              "928202150.7502152"
            ]
          },
          "metadata": {},
          "execution_count": 19
        }
      ]
    },
    {
      "cell_type": "markdown",
      "source": [
        "Bảng so sánh loss value:\n",
        "![image.png](data:image/png;base64,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)"
      ],
      "metadata": {
        "id": "VM9yN6wIBf51"
      }
    },
    {
      "cell_type": "markdown",
      "source": [
        "Nhận xét: Giá trị loss của các mô hình trên vẫn rất cao, nguyên nhân là vì sự thiếu dữ liệu. Tuy nhiên nhờ vậy mà việc kẻ desicion line khá dễ dàng vì rất ít điểm dữ liệu."
      ],
      "metadata": {
        "id": "EGaEAdVgBfFO"
      }
    }
  ]
}