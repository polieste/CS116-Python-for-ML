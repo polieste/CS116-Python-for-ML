{
  "nbformat": 4,
  "nbformat_minor": 0,
  "metadata": {
    "colab": {
      "provenance": []
    },
    "kernelspec": {
      "name": "python3",
      "display_name": "Python 3"
    },
    "language_info": {
      "name": "python"
    }
  },
  "cells": [
    {
      "cell_type": "code",
      "execution_count": 11,
      "metadata": {
        "id": "PRHuInpF9YWH"
      },
      "outputs": [],
      "source": [
        "import numpy as np\n",
        "import matplotlib.pyplot as plt\n",
        "import pandas as pd"
      ]
    },
    {
      "cell_type": "markdown",
      "source": [
        "Import data"
      ],
      "metadata": {
        "id": "-GYvNOwmCOlZ"
      }
    },
    {
      "cell_type": "code",
      "source": [
        "dataset = pd.read_csv('/content/drive/MyDrive/CS116/Position_Salaries.csv')\n",
        "X = dataset.iloc[:,1 :-1].values\n",
        "y = dataset.iloc[:, -1].values"
      ],
      "metadata": {
        "id": "rHiJnFse980O"
      },
      "execution_count": 12,
      "outputs": []
    },
    {
      "cell_type": "markdown",
      "source": [
        "Split data"
      ],
      "metadata": {
        "id": "VKKzX9CeCPp0"
      }
    },
    {
      "cell_type": "code",
      "source": [
        "from sklearn.model_selection import train_test_split\n",
        "X_train, X_test, y_train, y_test = train_test_split(X, y, test_size = 0.3, random_state = 0)\n",
        "X_train, X_val, y_train, y_val = train_test_split(X_train, y_train, test_size = 0.3, random_state = 0)"
      ],
      "metadata": {
        "id": "sKSxf-eR-jkq"
      },
      "execution_count": 13,
      "outputs": []
    },
    {
      "cell_type": "markdown",
      "source": [
        "Train"
      ],
      "metadata": {
        "id": "dyx-MuHxCRA3"
      }
    },
    {
      "cell_type": "code",
      "source": [
        "from sklearn.linear_model import LinearRegression\n",
        "from sklearn.svm import SVR\n",
        "from sklearn.ensemble import RandomForestRegressor\n",
        "\n",
        "regressor1 = LinearRegression()\n",
        "regressor1.fit(X_train, y_train)\n",
        "\n",
        "regressor2 = RandomForestRegressor()\n",
        "regressor2.fit(X_train, y_train)\n",
        "\n",
        "regressor3 = SVR(kernel='linear')\n",
        "regressor3.fit(X_train, y_train)\n",
        "\n",
        "regressor4 = SVR(kernel='rbf')\n",
        "regressor4.fit(X_train, y_train)\n",
        "\n",
        "regressor5 = SVR(kernel='poly')\n",
        "regressor5.fit(X_train, y_train)"
      ],
      "metadata": {
        "colab": {
          "base_uri": "https://localhost:8080/"
        },
        "id": "0YWdc7fY-m0k",
        "outputId": "d706c43d-0c04-4973-ea8e-89112eb04333"
      },
      "execution_count": 14,
      "outputs": [
        {
          "output_type": "execute_result",
          "data": {
            "text/plain": [
              "SVR(kernel='poly')"
            ]
          },
          "metadata": {},
          "execution_count": 14
        }
      ]
    },
    {
      "cell_type": "code",
      "source": [
        "y_pred1 = regressor1.predict(X_test)\n",
        "y_pred2 = regressor2.predict(X_test)\n",
        "y_pred3 = regressor3.predict(X_test)\n",
        "y_pred4 = regressor4.predict(X_test)\n",
        "y_pred5 = regressor5.predict(X_test)"
      ],
      "metadata": {
        "id": "VoVUym-a-q3s"
      },
      "execution_count": 15,
      "outputs": []
    },
    {
      "cell_type": "code",
      "source": [
        "y_result1= regressor1.predict(X_val)\n",
        "y_result2= regressor2.predict(X_val)\n",
        "y_result3= regressor3.predict(X_val)\n",
        "y_result4= regressor4.predict(X_val)\n",
        "y_result5= regressor5.predict(X_val)"
      ],
      "metadata": {
        "id": "dVqL1Ytg-sMd"
      },
      "execution_count": 16,
      "outputs": []
    },
    {
      "cell_type": "code",
      "source": [
        "from sklearn.metrics import mean_squared_error"
      ],
      "metadata": {
        "id": "3zGK9XMI-uj3"
      },
      "execution_count": 17,
      "outputs": []
    },
    {
      "cell_type": "markdown",
      "source": [
        "Loss value"
      ],
      "metadata": {
        "id": "WilSEdLKCSiG"
      }
    },
    {
      "cell_type": "code",
      "source": [
        "loss_test1 = mean_squared_error(y_test,y_pred1)\n",
        "loss_test1"
      ],
      "metadata": {
        "colab": {
          "base_uri": "https://localhost:8080/"
        },
        "id": "R0aJFa-t-u8i",
        "outputId": "fd4f077c-9d57-416d-a923-18325092b370"
      },
      "execution_count": 18,
      "outputs": [
        {
          "output_type": "execute_result",
          "data": {
            "text/plain": [
              "19447769230.769234"
            ]
          },
          "metadata": {},
          "execution_count": 18
        }
      ]
    },
    {
      "cell_type": "code",
      "source": [
        "loss_test2 = mean_squared_error(y_test,y_pred2)\n",
        "loss_test2"
      ],
      "metadata": {
        "colab": {
          "base_uri": "https://localhost:8080/"
        },
        "id": "2n8MD9z4-wzM",
        "outputId": "b8120cc5-eb62-46e9-c83a-b00e807617b9"
      },
      "execution_count": 19,
      "outputs": [
        {
          "output_type": "execute_result",
          "data": {
            "text/plain": [
              "1243588333.3333333"
            ]
          },
          "metadata": {},
          "execution_count": 19
        }
      ]
    },
    {
      "cell_type": "code",
      "source": [
        "loss_test3 = mean_squared_error(y_test,y_pred3)\n",
        "loss_test3"
      ],
      "metadata": {
        "colab": {
          "base_uri": "https://localhost:8080/"
        },
        "id": "CGuEdwK5-x7_",
        "outputId": "3c65f480-f533-4c72-8ed1-c58e12bcb7ba"
      },
      "execution_count": 20,
      "outputs": [
        {
          "output_type": "execute_result",
          "data": {
            "text/plain": [
              "39787867737.0"
            ]
          },
          "metadata": {},
          "execution_count": 20
        }
      ]
    },
    {
      "cell_type": "code",
      "source": [
        "loss_test4 = mean_squared_error(y_test,y_pred4)\n",
        "loss_test4"
      ],
      "metadata": {
        "colab": {
          "base_uri": "https://localhost:8080/"
        },
        "id": "zIa6e-za-xy4",
        "outputId": "22b8a062-2d0a-4800-9b3c-57939c02b1ba"
      },
      "execution_count": 21,
      "outputs": [
        {
          "output_type": "execute_result",
          "data": {
            "text/plain": [
              "39799495402.13843"
            ]
          },
          "metadata": {},
          "execution_count": 21
        }
      ]
    },
    {
      "cell_type": "code",
      "source": [
        "loss_test5 = mean_squared_error(y_test,y_pred5)\n",
        "loss_test5"
      ],
      "metadata": {
        "colab": {
          "base_uri": "https://localhost:8080/"
        },
        "id": "MGjOBwIU-xwr",
        "outputId": "4166c839-3341-4031-b695-d320f6aa3861"
      },
      "execution_count": 22,
      "outputs": [
        {
          "output_type": "execute_result",
          "data": {
            "text/plain": [
              "39702181293.64193"
            ]
          },
          "metadata": {},
          "execution_count": 22
        }
      ]
    },
    {
      "cell_type": "code",
      "source": [
        "loss_val1 = mean_squared_error(y_val,y_result1)\n",
        "loss_val1"
      ],
      "metadata": {
        "colab": {
          "base_uri": "https://localhost:8080/"
        },
        "id": "_7VoObAW-xuP",
        "outputId": "8d699c2d-c462-456b-aa3f-cd3899955a15"
      },
      "execution_count": 23,
      "outputs": [
        {
          "output_type": "execute_result",
          "data": {
            "text/plain": [
              "43199844181.45958"
            ]
          },
          "metadata": {},
          "execution_count": 23
        }
      ]
    },
    {
      "cell_type": "code",
      "source": [
        "loss_val2 = mean_squared_error(y_val,y_result2)\n",
        "loss_val2"
      ],
      "metadata": {
        "colab": {
          "base_uri": "https://localhost:8080/"
        },
        "id": "Ff19rLbT-xry",
        "outputId": "b30949e4-ec93-420b-e696-38f6e88129d7"
      },
      "execution_count": 24,
      "outputs": [
        {
          "output_type": "execute_result",
          "data": {
            "text/plain": [
              "1503483333.3333333"
            ]
          },
          "metadata": {},
          "execution_count": 24
        }
      ]
    },
    {
      "cell_type": "code",
      "source": [
        "loss_val3 = mean_squared_error(y_val,y_result3)\n",
        "loss_val3"
      ],
      "metadata": {
        "colab": {
          "base_uri": "https://localhost:8080/"
        },
        "id": "vHGfdCpY-xo9",
        "outputId": "827df34d-e979-4e60-a8a1-960f3920d8aa"
      },
      "execution_count": 25,
      "outputs": [
        {
          "output_type": "execute_result",
          "data": {
            "text/plain": [
              "7095060957.666667"
            ]
          },
          "metadata": {},
          "execution_count": 25
        }
      ]
    },
    {
      "cell_type": "code",
      "source": [
        "loss_val4 = mean_squared_error(y_val,y_result4)\n",
        "loss_val4"
      ],
      "metadata": {
        "colab": {
          "base_uri": "https://localhost:8080/"
        },
        "id": "8tBdtqMC-xb0",
        "outputId": "59e93f5c-e582-488d-f5d6-179a8e0a4c91"
      },
      "execution_count": 26,
      "outputs": [
        {
          "output_type": "execute_result",
          "data": {
            "text/plain": [
              "7099834436.192052"
            ]
          },
          "metadata": {},
          "execution_count": 26
        }
      ]
    },
    {
      "cell_type": "code",
      "source": [
        "loss_val5 = mean_squared_error(y_val,y_result5)\n",
        "loss_val5"
      ],
      "metadata": {
        "colab": {
          "base_uri": "https://localhost:8080/"
        },
        "id": "IKcmj8-0-xUQ",
        "outputId": "62201789-8579-4021-f362-8c8aac1f009c"
      },
      "execution_count": 27,
      "outputs": [
        {
          "output_type": "execute_result",
          "data": {
            "text/plain": [
              "7077301564.362945"
            ]
          },
          "metadata": {},
          "execution_count": 27
        }
      ]
    },
    {
      "cell_type": "markdown",
      "source": [
        "Bảng so sánh kết quả loss value:\n",
        "![image.png](data:image/png;base64,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)"
      ],
      "metadata": {
        "id": "xDxrmCJP-8YW"
      }
    },
    {
      "cell_type": "markdown",
      "source": [
        "Nhận xét: Giá trị loss của các mô hình trên vẫn rất cao, nguyên nhân là vì sự thiếu dữ liệu, mỗi output chỉ có đúng một mẩu dữ liệu input. Tuy nhiên nhờ vậy mà việc kẻ desicion line khá dễ dàng vì rất ít điểm dữ liệu."
      ],
      "metadata": {
        "id": "fVym7k21_j0N"
      }
    }
  ]
}