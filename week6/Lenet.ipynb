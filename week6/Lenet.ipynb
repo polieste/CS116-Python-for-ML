{
  "nbformat": 4,
  "nbformat_minor": 0,
  "metadata": {
    "colab": {
      "provenance": []
    },
    "kernelspec": {
      "name": "python3",
      "display_name": "Python 3"
    },
    "accelerator": "GPU"
  },
  "cells": [
    {
      "cell_type": "code",
      "source": [
        "from google.colab import drive\n",
        "drive.mount('/content/drive')"
      ],
      "metadata": {
        "colab": {
          "base_uri": "https://localhost:8080/"
        },
        "id": "GK468gbpsPaf",
        "outputId": "848b674e-34eb-4e50-9d55-472c1fc08d5b"
      },
      "execution_count": 18,
      "outputs": [
        {
          "output_type": "stream",
          "name": "stdout",
          "text": [
            "Drive already mounted at /content/drive; to attempt to forcibly remount, call drive.mount(\"/content/drive\", force_remount=True).\n"
          ]
        }
      ]
    },
    {
      "cell_type": "code",
      "source": [
        "%cd /content/drive/MyDrive/CS116"
      ],
      "metadata": {
        "colab": {
          "base_uri": "https://localhost:8080/"
        },
        "id": "PH0Gn42asAsG",
        "outputId": "d9f7ee36-6dc5-44c1-92a2-f2ad7d792f27"
      },
      "execution_count": 19,
      "outputs": [
        {
          "output_type": "stream",
          "name": "stdout",
          "text": [
            "/content/drive/MyDrive/CS116\n"
          ]
        }
      ]
    },
    {
      "cell_type": "code",
      "metadata": {
        "id": "mQ4AkwUDHajp"
      },
      "source": [
        "from keras.layers import Input, Dense, Conv2D, MaxPooling2D, Flatten\n",
        "from keras.models import load_model, Model\n",
        "import tensorflow as tf\n",
        "import keras\n",
        "import matplotlib.pyplot as plt\n",
        "\n",
        "\n",
        "class MyCNN:\n",
        "  # constructor\n",
        "  def __init__(self):\n",
        "    self.model = None\n",
        "\n",
        "  # Define structure of the CNN\n",
        "  def build(self, input_dim):\n",
        "    input = Input(shape = input_dim) # X dau vao cua minh\n",
        "    C1 = Conv2D(6, (3, 3), padding='same', activation='relu')(input)\n",
        "    S2 = MaxPooling2D(pool_size=(2, 2), padding=\"same\")(C1)\n",
        "    C3 = Conv2D(16, (3, 3), padding='same', activation='relu')(S2)\n",
        "    S4 = MaxPooling2D(pool_size=(2, 2), padding=\"same\")(C3)\n",
        "\n",
        "    flat = Flatten()(S4)\n",
        "    # These like ANN\n",
        "    F5 = Dense(120, activation='relu', use_bias=True)(flat)\n",
        "    F6 = Dense(84, activation='relu', use_bias=True)(F5)\n",
        "    output = Dense(10, activation='softmax', use_bias=True)(F6) # y~ output\n",
        "    self.model = Model(input, output)\n",
        "  \n",
        "  # Train the model\n",
        "  def train(self, x_train, y_train): # x_train chinh la X, y_train chinh la ground-truth\n",
        "    sgd = keras.optimizers.SGD(learning_rate=0.01)\n",
        "    self.model.compile(optimizer=sgd, loss = 'categorical_crossentropy', metrics=['accuracy'])\n",
        "    self.model.fit(x_train, y_train, epochs = 50, batch_size = 128)\n",
        "  \n",
        "  # Load model from file\n",
        "  def load(self, model_file):\n",
        "    self.model = load_model(model_file)\n",
        "  \n",
        "  # save the trained model\n",
        "  def save(self, model_file):\n",
        "    self.model.save(model_file)\n",
        "  \n",
        "  # Show the architecture of the model\n",
        "  def summary(self):\n",
        "    self.model.summary()\n",
        "\n",
        "  # Test the model with a given input\n",
        "  def predict(self, x_test):\n",
        "    return self.model.predict(x_test)\n",
        "  def evaluate(self, x_test, y_test):\n",
        "    return self.model.evaluate(x_test, y_test)"
      ],
      "execution_count": 20,
      "outputs": []
    },
    {
      "cell_type": "code",
      "metadata": {
        "id": "QOwcpLbYHno7",
        "colab": {
          "base_uri": "https://localhost:8080/"
        },
        "outputId": "57258e8a-5ee9-48e5-c381-ae57a959bd76"
      },
      "source": [
        "from keras.datasets import mnist\n",
        "\n",
        "(x_train, y_train), (x_test, y_test) = mnist.load_data()\n",
        "\n",
        "print(x_train.shape)\n",
        "print(y_train.shape)\n",
        "print(x_test.shape)\n",
        "print(y_test.shape)"
      ],
      "execution_count": 21,
      "outputs": [
        {
          "output_type": "stream",
          "name": "stdout",
          "text": [
            "(60000, 28, 28)\n",
            "(60000,)\n",
            "(10000, 28, 28)\n",
            "(10000,)\n"
          ]
        }
      ]
    },
    {
      "cell_type": "code",
      "metadata": {
        "id": "hjbM2ZrWON53"
      },
      "source": [
        "import numpy as np\n",
        "\n",
        "def onehot(y):\n",
        "  oh = np.zeros((y.shape[0], 10))\n",
        "  for i in range(y.shape[0]):\n",
        "    oh[i, int(y[i])]=1\n",
        "  return oh"
      ],
      "execution_count": 22,
      "outputs": []
    },
    {
      "cell_type": "code",
      "metadata": {
        "id": "-HXJByzMMyWq"
      },
      "source": [
        "from sklearn import preprocessing\n",
        "import numpy as np\n",
        "\n",
        "# Normalize train data\n",
        "y_train_oh = onehot(y_train)\n",
        "y_train_oh.shape\n",
        "\n",
        "y_test_oh = onehot(y_test)\n",
        "y_test_oh.shape\n",
        "\n",
        "x_train_norm = x_train / 255.0\n",
        "x_test_norm = x_test / 255.0"
      ],
      "execution_count": 23,
      "outputs": []
    },
    {
      "cell_type": "code",
      "metadata": {
        "id": "vjd-0_h89KFL",
        "colab": {
          "base_uri": "https://localhost:8080/"
        },
        "outputId": "d18435ce-386e-4ae5-d702-e0f38511d7c5"
      },
      "source": [
        "x_train_norm.shape"
      ],
      "execution_count": 24,
      "outputs": [
        {
          "output_type": "execute_result",
          "data": {
            "text/plain": [
              "(60000, 28, 28)"
            ]
          },
          "metadata": {},
          "execution_count": 24
        }
      ]
    },
    {
      "cell_type": "code",
      "metadata": {
        "id": "jcbloAh5O2GP",
        "colab": {
          "base_uri": "https://localhost:8080/",
          "height": 282
        },
        "outputId": "76ce9d34-12cc-469e-e551-5e441c46712b"
      },
      "source": [
        "import matplotlib.pyplot as plt\n",
        "\n",
        "# Visualize training data\n",
        "plt.imshow(x_train[1234])\n",
        "plt.show()\n",
        "print('Label: ', y_train_oh[1234])"
      ],
      "execution_count": 25,
      "outputs": [
        {
          "output_type": "display_data",
          "data": {
            "text/plain": [
              "<Figure size 432x288 with 1 Axes>"
            ],
            "image/png": "[encoded data removed]"
          },
          "metadata": {
            "needs_background": "light"
          }
        },
        {
          "output_type": "stream",
          "name": "stdout",
          "text": [
            "Label:  [0. 0. 0. 1. 0. 0. 0. 0. 0. 0.]\n"
          ]
        }
      ]
    },
    {
      "cell_type": "code",
      "metadata": {
        "id": "QYLnuXjVUMVF",
        "colab": {
          "base_uri": "https://localhost:8080/"
        },
        "outputId": "ae42627a-2b6a-4860-e3d5-f94084349203"
      },
      "source": [
        "# Build and train CNN model\n",
        "cnn = MyCNN()\n",
        "cnn.build((28, 28, 1))\n",
        "cnn.train(x_train_norm, y_train_oh)"
      ],
      "execution_count": 26,
      "outputs": [
        {
          "output_type": "stream",
          "name": "stdout",
          "text": [
            "Epoch 1/50\n",
            "469/469 [==============================] - 2s 4ms/step - loss: 1.2878 - accuracy: 0.5888\n",
            "Epoch 2/50\n",
            "469/469 [==============================] - 2s 4ms/step - loss: 0.3146 - accuracy: 0.9043\n",
            "Epoch 3/50\n",
            "469/469 [==============================] - 2s 4ms/step - loss: 0.2216 - accuracy: 0.9325\n",
            "Epoch 4/50\n",
            "469/469 [==============================] - 2s 4ms/step - loss: 0.1771 - accuracy: 0.9459\n",
            "Epoch 5/50\n",
            "469/469 [==============================] - 2s 4ms/step - loss: 0.1495 - accuracy: 0.9547\n",
            "Epoch 6/50\n",
            "469/469 [==============================] - 2s 4ms/step - loss: 0.1306 - accuracy: 0.9605\n",
            "Epoch 7/50\n",
            "469/469 [==============================] - 2s 4ms/step - loss: 0.1158 - accuracy: 0.9647\n",
            "Epoch 8/50\n",
            "469/469 [==============================] - 2s 4ms/step - loss: 0.1063 - accuracy: 0.9679\n",
            "Epoch 9/50\n",
            "469/469 [==============================] - 2s 4ms/step - loss: 0.0974 - accuracy: 0.9706\n",
            "Epoch 10/50\n",
            "469/469 [==============================] - 2s 4ms/step - loss: 0.0911 - accuracy: 0.9724\n",
            "Epoch 11/50\n",
            "469/469 [==============================] - 2s 4ms/step - loss: 0.0856 - accuracy: 0.9739\n",
            "Epoch 12/50\n",
            "469/469 [==============================] - 2s 4ms/step - loss: 0.0801 - accuracy: 0.9760\n",
            "Epoch 13/50\n",
            "469/469 [==============================] - 2s 4ms/step - loss: 0.0758 - accuracy: 0.9767\n",
            "Epoch 14/50\n",
            "469/469 [==============================] - 2s 4ms/step - loss: 0.0728 - accuracy: 0.9778\n",
            "Epoch 15/50\n",
            "469/469 [==============================] - 2s 4ms/step - loss: 0.0689 - accuracy: 0.9791\n",
            "Epoch 16/50\n",
            "469/469 [==============================] - 2s 3ms/step - loss: 0.0656 - accuracy: 0.9804\n",
            "Epoch 17/50\n",
            "469/469 [==============================] - 2s 4ms/step - loss: 0.0630 - accuracy: 0.9808\n",
            "Epoch 18/50\n",
            "469/469 [==============================] - 2s 4ms/step - loss: 0.0611 - accuracy: 0.9815\n",
            "Epoch 19/50\n",
            "469/469 [==============================] - 2s 4ms/step - loss: 0.0581 - accuracy: 0.9817\n",
            "Epoch 20/50\n",
            "469/469 [==============================] - 2s 4ms/step - loss: 0.0554 - accuracy: 0.9827\n",
            "Epoch 21/50\n",
            "469/469 [==============================] - 2s 4ms/step - loss: 0.0550 - accuracy: 0.9829\n",
            "Epoch 22/50\n",
            "469/469 [==============================] - 2s 4ms/step - loss: 0.0524 - accuracy: 0.9837\n",
            "Epoch 23/50\n",
            "469/469 [==============================] - 2s 4ms/step - loss: 0.0502 - accuracy: 0.9845\n",
            "Epoch 24/50\n",
            "469/469 [==============================] - 2s 4ms/step - loss: 0.0489 - accuracy: 0.9846\n",
            "Epoch 25/50\n",
            "469/469 [==============================] - 2s 4ms/step - loss: 0.0473 - accuracy: 0.9852\n",
            "Epoch 26/50\n",
            "469/469 [==============================] - 2s 4ms/step - loss: 0.0461 - accuracy: 0.9858\n",
            "Epoch 27/50\n",
            "469/469 [==============================] - 2s 4ms/step - loss: 0.0445 - accuracy: 0.9865\n",
            "Epoch 28/50\n",
            "469/469 [==============================] - 2s 4ms/step - loss: 0.0430 - accuracy: 0.9868\n",
            "Epoch 29/50\n",
            "469/469 [==============================] - 2s 4ms/step - loss: 0.0418 - accuracy: 0.9873\n",
            "Epoch 30/50\n",
            "469/469 [==============================] - 2s 4ms/step - loss: 0.0407 - accuracy: 0.9873\n",
            "Epoch 31/50\n",
            "469/469 [==============================] - 2s 4ms/step - loss: 0.0404 - accuracy: 0.9875\n",
            "Epoch 32/50\n",
            "469/469 [==============================] - 2s 4ms/step - loss: 0.0388 - accuracy: 0.9876\n",
            "Epoch 33/50\n",
            "469/469 [==============================] - 2s 4ms/step - loss: 0.0379 - accuracy: 0.9879\n",
            "Epoch 34/50\n",
            "469/469 [==============================] - 2s 4ms/step - loss: 0.0362 - accuracy: 0.9889\n",
            "Epoch 35/50\n",
            "469/469 [==============================] - 2s 4ms/step - loss: 0.0358 - accuracy: 0.9889\n",
            "Epoch 36/50\n",
            "469/469 [==============================] - 2s 4ms/step - loss: 0.0353 - accuracy: 0.9887\n",
            "Epoch 37/50\n",
            "469/469 [==============================] - 2s 4ms/step - loss: 0.0337 - accuracy: 0.9896\n",
            "Epoch 38/50\n",
            "469/469 [==============================] - 2s 4ms/step - loss: 0.0330 - accuracy: 0.9899\n",
            "Epoch 39/50\n",
            "469/469 [==============================] - 2s 4ms/step - loss: 0.0320 - accuracy: 0.9901\n",
            "Epoch 40/50\n",
            "469/469 [==============================] - 2s 4ms/step - loss: 0.0315 - accuracy: 0.9904\n",
            "Epoch 41/50\n",
            "469/469 [==============================] - 2s 4ms/step - loss: 0.0305 - accuracy: 0.9905\n",
            "Epoch 42/50\n",
            "469/469 [==============================] - 2s 4ms/step - loss: 0.0300 - accuracy: 0.9903\n",
            "Epoch 43/50\n",
            "469/469 [==============================] - 2s 4ms/step - loss: 0.0291 - accuracy: 0.9912\n",
            "Epoch 44/50\n",
            "469/469 [==============================] - 2s 4ms/step - loss: 0.0280 - accuracy: 0.9913\n",
            "Epoch 45/50\n",
            "469/469 [==============================] - 2s 4ms/step - loss: 0.0276 - accuracy: 0.9913\n",
            "Epoch 46/50\n",
            "469/469 [==============================] - 2s 4ms/step - loss: 0.0270 - accuracy: 0.9918\n",
            "Epoch 47/50\n",
            "469/469 [==============================] - 2s 4ms/step - loss: 0.0263 - accuracy: 0.9915\n",
            "Epoch 48/50\n",
            "469/469 [==============================] - 2s 4ms/step - loss: 0.0256 - accuracy: 0.9921\n",
            "Epoch 49/50\n",
            "469/469 [==============================] - 2s 4ms/step - loss: 0.0252 - accuracy: 0.9924\n",
            "Epoch 50/50\n",
            "469/469 [==============================] - 2s 4ms/step - loss: 0.0244 - accuracy: 0.9924\n"
          ]
        }
      ]
    },
    {
      "cell_type": "code",
      "metadata": {
        "id": "1jFSA6hUTxaV",
        "colab": {
          "base_uri": "https://localhost:8080/"
        },
        "outputId": "aef8ccd1-a944-4ebc-a4ab-670cfe65480b"
      },
      "source": [
        "# Câu 1: Hãy viết code để tính độ chính xác trên tập test\n",
        "cnn.evaluate(x_test_norm, y_test_oh)"
      ],
      "execution_count": 27,
      "outputs": [
        {
          "output_type": "stream",
          "name": "stdout",
          "text": [
            "313/313 [==============================] - 1s 3ms/step - loss: 0.0524 - accuracy: 0.9834\n"
          ]
        },
        {
          "output_type": "execute_result",
          "data": {
            "text/plain": [
              "[0.052434053272008896, 0.9833999872207642]"
            ]
          },
          "metadata": {},
          "execution_count": 27
        }
      ]
    },
    {
      "cell_type": "code",
      "source": [
        "# Câu 2: Hãy thử nghiệm với kiến trúc sau:\n",
        "#   - Từ kiến trúc MyCNN gốc, hãy loại bỏ hết bước MaxPooling --> Tính độ chính xác trên tập test\n",
        "class MyCNN_withoutMaxPooling:\n",
        "  # constructor\n",
        "  def __init__(self):\n",
        "    self.model = None\n",
        "\n",
        "  # Define structure of the CNN\n",
        "  def build(self, input_dim):\n",
        "    input = Input(shape = input_dim) # X dau vao cua minh\n",
        "    C1 = Conv2D(6, (3, 3), padding='same', activation='relu')(input)\n",
        "    # S2 = MaxPooling2D(pool_size=(2, 2), padding=\"same\")(C1)\n",
        "    C3 = Conv2D(16, (3, 3), padding='same', activation='relu')(C1)\n",
        "    # S4 = MaxPooling2D(pool_size=(2, 2), padding=\"same\")(C3)\n",
        "\n",
        "    flat = Flatten()(C3)\n",
        "    # These like ANN\n",
        "    F5 = Dense(120, activation='relu', use_bias=True)(flat)\n",
        "    F6 = Dense(84, activation='relu', use_bias=True)(F5)\n",
        "    output = Dense(10, activation='softmax', use_bias=True)(F6) # y~ output\n",
        "    self.model = Model(input, output)\n",
        "  \n",
        "  # Train the model\n",
        "  def train(self, x_train, y_train): # x_train chinh la X, y_train chinh la ground-truth\n",
        "    sgd = keras.optimizers.SGD(learning_rate=0.01)\n",
        "    self.model.compile(optimizer=sgd, loss = 'categorical_crossentropy', metrics=['accuracy'])\n",
        "    self.model.fit(x_train, y_train, epochs = 50, batch_size = 128)\n",
        "  \n",
        "  # Load model from file\n",
        "  def load(self, model_file):\n",
        "    self.model = load_model(model_file)\n",
        "  \n",
        "  # save the trained model\n",
        "  def save(self, model_file):\n",
        "    self.model.save(model_file)\n",
        "  \n",
        "  # Show the architecture of the model\n",
        "  def summary(self):\n",
        "    self.model.summary()\n",
        "\n",
        "  # Test the model with a given input\n",
        "  def predict(self, x_test):\n",
        "    return self.model.predict(x_test)\n",
        "\n",
        "  def evaluate(self, x_test, y_test):\n",
        "    return self.model.evaluate(x_test, y_test)"
      ],
      "metadata": {
        "id": "FwRcDJ6q8kAQ"
      },
      "execution_count": 28,
      "outputs": []
    },
    {
      "cell_type": "code",
      "source": [
        "# Build and train CNN model\n",
        "cnn = MyCNN_withoutMaxPooling()\n",
        "cnn.build((28, 28, 1))\n",
        "cnn.train(x_train_norm, y_train_oh)"
      ],
      "metadata": {
        "colab": {
          "base_uri": "https://localhost:8080/"
        },
        "id": "i6c7m5ZkumRk",
        "outputId": "44ee50fb-ed2b-480b-b7dc-734d1b6aaeda"
      },
      "execution_count": 29,
      "outputs": [
        {
          "output_type": "stream",
          "name": "stdout",
          "text": [
            "Epoch 1/50\n",
            "469/469 [==============================] - 2s 4ms/step - loss: 0.5865 - accuracy: 0.8336\n",
            "Epoch 2/50\n",
            "469/469 [==============================] - 2s 4ms/step - loss: 0.2107 - accuracy: 0.9372\n",
            "Epoch 3/50\n",
            "469/469 [==============================] - 2s 4ms/step - loss: 0.1624 - accuracy: 0.9511\n",
            "Epoch 4/50\n",
            "469/469 [==============================] - 2s 4ms/step - loss: 0.1360 - accuracy: 0.9585\n",
            "Epoch 5/50\n",
            "469/469 [==============================] - 2s 4ms/step - loss: 0.1162 - accuracy: 0.9652\n",
            "Epoch 6/50\n",
            "469/469 [==============================] - 2s 4ms/step - loss: 0.1046 - accuracy: 0.9682\n",
            "Epoch 7/50\n",
            "469/469 [==============================] - 2s 4ms/step - loss: 0.0955 - accuracy: 0.9707\n",
            "Epoch 8/50\n",
            "469/469 [==============================] - 2s 4ms/step - loss: 0.0863 - accuracy: 0.9736\n",
            "Epoch 9/50\n",
            "469/469 [==============================] - 2s 4ms/step - loss: 0.0796 - accuracy: 0.9757\n",
            "Epoch 10/50\n",
            "469/469 [==============================] - 2s 4ms/step - loss: 0.0737 - accuracy: 0.9772\n",
            "Epoch 11/50\n",
            "469/469 [==============================] - 2s 4ms/step - loss: 0.0694 - accuracy: 0.9782\n",
            "Epoch 12/50\n",
            "469/469 [==============================] - 2s 4ms/step - loss: 0.0654 - accuracy: 0.9802\n",
            "Epoch 13/50\n",
            "469/469 [==============================] - 2s 4ms/step - loss: 0.0593 - accuracy: 0.9817\n",
            "Epoch 14/50\n",
            "469/469 [==============================] - 2s 4ms/step - loss: 0.0572 - accuracy: 0.9818\n",
            "Epoch 15/50\n",
            "469/469 [==============================] - 2s 4ms/step - loss: 0.0546 - accuracy: 0.9829\n",
            "Epoch 16/50\n",
            "469/469 [==============================] - 2s 4ms/step - loss: 0.0510 - accuracy: 0.9840\n",
            "Epoch 17/50\n",
            "469/469 [==============================] - 2s 4ms/step - loss: 0.0475 - accuracy: 0.9850\n",
            "Epoch 18/50\n",
            "469/469 [==============================] - 2s 4ms/step - loss: 0.0455 - accuracy: 0.9859\n",
            "Epoch 19/50\n",
            "469/469 [==============================] - 2s 4ms/step - loss: 0.0445 - accuracy: 0.9862\n",
            "Epoch 20/50\n",
            "469/469 [==============================] - 2s 4ms/step - loss: 0.0411 - accuracy: 0.9872\n",
            "Epoch 21/50\n",
            "469/469 [==============================] - 2s 4ms/step - loss: 0.0385 - accuracy: 0.9882\n",
            "Epoch 22/50\n",
            "469/469 [==============================] - 2s 5ms/step - loss: 0.0365 - accuracy: 0.9887\n",
            "Epoch 23/50\n",
            "469/469 [==============================] - 3s 6ms/step - loss: 0.0343 - accuracy: 0.9894\n",
            "Epoch 24/50\n",
            "469/469 [==============================] - 3s 6ms/step - loss: 0.0333 - accuracy: 0.9895\n",
            "Epoch 25/50\n",
            "469/469 [==============================] - 2s 4ms/step - loss: 0.0314 - accuracy: 0.9899\n",
            "Epoch 26/50\n",
            "469/469 [==============================] - 2s 4ms/step - loss: 0.0303 - accuracy: 0.9904\n",
            "Epoch 27/50\n",
            "469/469 [==============================] - 2s 4ms/step - loss: 0.0284 - accuracy: 0.9914\n",
            "Epoch 28/50\n",
            "469/469 [==============================] - 2s 4ms/step - loss: 0.0300 - accuracy: 0.9905\n",
            "Epoch 29/50\n",
            "469/469 [==============================] - 2s 4ms/step - loss: 0.0251 - accuracy: 0.9919\n",
            "Epoch 30/50\n",
            "469/469 [==============================] - 2s 4ms/step - loss: 0.0252 - accuracy: 0.9918\n",
            "Epoch 31/50\n",
            "469/469 [==============================] - 2s 4ms/step - loss: 0.0219 - accuracy: 0.9934\n",
            "Epoch 32/50\n",
            "469/469 [==============================] - 2s 4ms/step - loss: 0.0220 - accuracy: 0.9930\n",
            "Epoch 33/50\n",
            "469/469 [==============================] - 2s 4ms/step - loss: 0.0211 - accuracy: 0.9935\n",
            "Epoch 34/50\n",
            "469/469 [==============================] - 2s 4ms/step - loss: 0.0204 - accuracy: 0.9938\n",
            "Epoch 35/50\n",
            "469/469 [==============================] - 2s 4ms/step - loss: 0.0187 - accuracy: 0.9944\n",
            "Epoch 36/50\n",
            "469/469 [==============================] - 2s 4ms/step - loss: 0.0174 - accuracy: 0.9943\n",
            "Epoch 37/50\n",
            "469/469 [==============================] - 2s 4ms/step - loss: 0.0181 - accuracy: 0.9944\n",
            "Epoch 38/50\n",
            "469/469 [==============================] - 2s 4ms/step - loss: 0.0158 - accuracy: 0.9950\n",
            "Epoch 39/50\n",
            "469/469 [==============================] - 2s 4ms/step - loss: 0.0149 - accuracy: 0.9955\n",
            "Epoch 40/50\n",
            "469/469 [==============================] - 2s 4ms/step - loss: 0.0155 - accuracy: 0.9953\n",
            "Epoch 41/50\n",
            "469/469 [==============================] - 2s 4ms/step - loss: 0.0139 - accuracy: 0.9956\n",
            "Epoch 42/50\n",
            "469/469 [==============================] - 2s 4ms/step - loss: 0.0141 - accuracy: 0.9957\n",
            "Epoch 43/50\n",
            "469/469 [==============================] - 2s 4ms/step - loss: 0.0124 - accuracy: 0.9965\n",
            "Epoch 44/50\n",
            "469/469 [==============================] - 2s 4ms/step - loss: 0.0117 - accuracy: 0.9968\n",
            "Epoch 45/50\n",
            "469/469 [==============================] - 2s 4ms/step - loss: 0.0110 - accuracy: 0.9971\n",
            "Epoch 46/50\n",
            "469/469 [==============================] - 2s 4ms/step - loss: 0.0105 - accuracy: 0.9969\n",
            "Epoch 47/50\n",
            "469/469 [==============================] - 2s 4ms/step - loss: 0.0090 - accuracy: 0.9974\n",
            "Epoch 48/50\n",
            "469/469 [==============================] - 2s 4ms/step - loss: 0.0087 - accuracy: 0.9978\n",
            "Epoch 49/50\n",
            "469/469 [==============================] - 2s 4ms/step - loss: 0.0092 - accuracy: 0.9973\n",
            "Epoch 50/50\n",
            "469/469 [==============================] - 2s 4ms/step - loss: 0.0080 - accuracy: 0.9977\n"
          ]
        }
      ]
    },
    {
      "cell_type": "code",
      "source": [
        "cnn.evaluate(x_test_norm, y_test_oh)"
      ],
      "metadata": {
        "colab": {
          "base_uri": "https://localhost:8080/"
        },
        "id": "ej5UrO_VumN8",
        "outputId": "af51fbe4-bf43-490e-a517-c9056644f70c"
      },
      "execution_count": 30,
      "outputs": [
        {
          "output_type": "stream",
          "name": "stdout",
          "text": [
            "313/313 [==============================] - 1s 3ms/step - loss: 0.0898 - accuracy: 0.9791\n"
          ]
        },
        {
          "output_type": "execute_result",
          "data": {
            "text/plain": [
              "[0.08983249217271805, 0.9790999889373779]"
            ]
          },
          "metadata": {},
          "execution_count": 30
        }
      ]
    },
    {
      "cell_type": "code",
      "source": [
        "# Câu 3: Hãy thử nghiệm với kiến trúc sau:\n",
        "#   - Từ kiến trúc MyCNN gốc, hãy loại bỏ hết activation --> Tính độ chính xác trên tập test\n",
        "class MyCNN_withoutActivation:\n",
        "  # constructor\n",
        "  def __init__(self):\n",
        "    self.model = None\n",
        "\n",
        "  # Define structure of the CNN\n",
        "  def build(self, input_dim):\n",
        "    input = Input(shape = input_dim) # X dau vao cua minh\n",
        "    C1 = Conv2D(6, (3, 3), padding='same', activation='relu')(input)\n",
        "    S2 = MaxPooling2D(pool_size=(2, 2), padding=\"same\")(C1)\n",
        "    C3 = Conv2D(16, (3, 3), padding='same', activation='relu')(S2)\n",
        "    S4 = MaxPooling2D(pool_size=(2, 2), padding=\"same\")(C3)\n",
        "\n",
        "    flat = Flatten()(S4)\n",
        "    # These like ANN\n",
        "    F5 = Dense(120, activation=None, use_bias=True)(flat)\n",
        "    F6 = Dense(84, activation=None, use_bias=True)(F5)\n",
        "    output = Dense(10, activation=None, use_bias=True)(F6) # y~ output\n",
        "    self.model = Model(input, output)\n",
        "  \n",
        "  # Train the model\n",
        "  def train(self, x_train, y_train): # x_train chinh la X, y_train chinh la ground-truth\n",
        "    sgd = keras.optimizers.SGD(learning_rate=0.01)\n",
        "    self.model.compile(optimizer=sgd, loss = 'categorical_crossentropy', metrics=['accuracy'])\n",
        "    self.model.fit(x_train, y_train, epochs = 50, batch_size = 128)\n",
        "  \n",
        "  # Load model from file\n",
        "  def load(self, model_file):\n",
        "    self.model = load_model(model_file)\n",
        "  \n",
        "  # save the trained model\n",
        "  def save(self, model_file):\n",
        "    self.model.save(model_file)\n",
        "  \n",
        "  # Show the architecture of the model\n",
        "  def summary(self):\n",
        "    self.model.summary()\n",
        "\n",
        "  # Test the model with a given input\n",
        "  def predict(self, x_test):\n",
        "    return self.model.predict(x_test)\n",
        "\n",
        "  def evaluate(self, x_test, y_test):\n",
        "    return self.model.evaluate(x_test, y_test)"
      ],
      "metadata": {
        "id": "Qjlk49f783gA"
      },
      "execution_count": 31,
      "outputs": []
    },
    {
      "cell_type": "code",
      "source": [
        "# Build and train CNN model\n",
        "cnn = MyCNN_withoutActivation()\n",
        "cnn.build((28, 28, 1))\n",
        "cnn.train(x_train_norm, y_train_oh)"
      ],
      "metadata": {
        "colab": {
          "base_uri": "https://localhost:8080/"
        },
        "id": "Xr7IP5_Huvno",
        "outputId": "cafb0345-f29d-4ef9-aac7-277c2ec10e5d"
      },
      "execution_count": 32,
      "outputs": [
        {
          "output_type": "stream",
          "name": "stdout",
          "text": [
            "Epoch 1/50\n",
            "469/469 [==============================] - 2s 4ms/step - loss: 7.7051 - accuracy: 0.0813\n",
            "Epoch 2/50\n",
            "469/469 [==============================] - 2s 4ms/step - loss: 7.8724 - accuracy: 0.0774\n",
            "Epoch 3/50\n",
            "469/469 [==============================] - 2s 4ms/step - loss: 7.8936 - accuracy: 0.0764\n",
            "Epoch 4/50\n",
            "469/469 [==============================] - 2s 4ms/step - loss: 7.8092 - accuracy: 0.0758\n",
            "Epoch 5/50\n",
            "469/469 [==============================] - 2s 4ms/step - loss: 7.8366 - accuracy: 0.0757\n",
            "Epoch 6/50\n",
            "469/469 [==============================] - 2s 4ms/step - loss: 7.8560 - accuracy: 0.0754\n",
            "Epoch 7/50\n",
            "469/469 [==============================] - 2s 4ms/step - loss: 7.8355 - accuracy: 0.0752\n",
            "Epoch 8/50\n",
            "469/469 [==============================] - 2s 4ms/step - loss: 7.8133 - accuracy: 0.0750\n",
            "Epoch 9/50\n",
            "469/469 [==============================] - 2s 4ms/step - loss: 7.8329 - accuracy: 0.0748\n",
            "Epoch 10/50\n",
            "469/469 [==============================] - 2s 4ms/step - loss: 7.8415 - accuracy: 0.0748\n",
            "Epoch 11/50\n",
            "469/469 [==============================] - 2s 4ms/step - loss: 7.8415 - accuracy: 0.0748\n",
            "Epoch 12/50\n",
            "469/469 [==============================] - 2s 4ms/step - loss: 7.8415 - accuracy: 0.0748\n",
            "Epoch 13/50\n",
            "469/469 [==============================] - 2s 4ms/step - loss: 7.8415 - accuracy: 0.0748\n",
            "Epoch 14/50\n",
            "469/469 [==============================] - 2s 4ms/step - loss: 7.8415 - accuracy: 0.0748\n",
            "Epoch 15/50\n",
            "469/469 [==============================] - 2s 4ms/step - loss: 7.8415 - accuracy: 0.0748\n",
            "Epoch 16/50\n",
            "469/469 [==============================] - 2s 4ms/step - loss: 7.8415 - accuracy: 0.0748\n",
            "Epoch 17/50\n",
            "469/469 [==============================] - 2s 4ms/step - loss: 7.8415 - accuracy: 0.0748\n",
            "Epoch 18/50\n",
            "469/469 [==============================] - 2s 4ms/step - loss: 7.8415 - accuracy: 0.0748\n",
            "Epoch 19/50\n",
            "469/469 [==============================] - 2s 4ms/step - loss: 7.8415 - accuracy: 0.0748\n",
            "Epoch 20/50\n",
            "469/469 [==============================] - 2s 4ms/step - loss: 7.8415 - accuracy: 0.0748\n",
            "Epoch 21/50\n",
            "469/469 [==============================] - 2s 4ms/step - loss: 7.8415 - accuracy: 0.0748\n",
            "Epoch 22/50\n",
            "469/469 [==============================] - 2s 4ms/step - loss: 7.8415 - accuracy: 0.0748\n",
            "Epoch 23/50\n",
            "469/469 [==============================] - 2s 4ms/step - loss: 7.8415 - accuracy: 0.0748\n",
            "Epoch 24/50\n",
            "469/469 [==============================] - 2s 4ms/step - loss: 7.8415 - accuracy: 0.0748\n",
            "Epoch 25/50\n",
            "469/469 [==============================] - 2s 4ms/step - loss: 7.8415 - accuracy: 0.0748\n",
            "Epoch 26/50\n",
            "469/469 [==============================] - 2s 4ms/step - loss: 7.8415 - accuracy: 0.0748\n",
            "Epoch 27/50\n",
            "469/469 [==============================] - 2s 4ms/step - loss: 7.8415 - accuracy: 0.0748\n",
            "Epoch 28/50\n",
            "469/469 [==============================] - 2s 4ms/step - loss: 7.8415 - accuracy: 0.0748\n",
            "Epoch 29/50\n",
            "469/469 [==============================] - 2s 4ms/step - loss: 7.8415 - accuracy: 0.0748\n",
            "Epoch 30/50\n",
            "469/469 [==============================] - 2s 4ms/step - loss: 7.8415 - accuracy: 0.0748\n",
            "Epoch 31/50\n",
            "469/469 [==============================] - 2s 4ms/step - loss: 7.8415 - accuracy: 0.0748\n",
            "Epoch 32/50\n",
            "469/469 [==============================] - 2s 4ms/step - loss: 7.8415 - accuracy: 0.0748\n",
            "Epoch 33/50\n",
            "469/469 [==============================] - 2s 4ms/step - loss: 7.8415 - accuracy: 0.0748\n",
            "Epoch 34/50\n",
            "469/469 [==============================] - 2s 4ms/step - loss: 7.8415 - accuracy: 0.0748\n",
            "Epoch 35/50\n",
            "469/469 [==============================] - 2s 4ms/step - loss: 7.8415 - accuracy: 0.0748\n",
            "Epoch 36/50\n",
            "469/469 [==============================] - 2s 4ms/step - loss: 7.8415 - accuracy: 0.0748\n",
            "Epoch 37/50\n",
            "469/469 [==============================] - 2s 4ms/step - loss: 7.8415 - accuracy: 0.0748\n",
            "Epoch 38/50\n",
            "469/469 [==============================] - 2s 4ms/step - loss: 7.8415 - accuracy: 0.0748\n",
            "Epoch 39/50\n",
            "469/469 [==============================] - 2s 4ms/step - loss: 7.8415 - accuracy: 0.0748\n",
            "Epoch 40/50\n",
            "469/469 [==============================] - 2s 4ms/step - loss: 7.8415 - accuracy: 0.0748\n",
            "Epoch 41/50\n",
            "469/469 [==============================] - 2s 4ms/step - loss: 7.8415 - accuracy: 0.0748\n",
            "Epoch 42/50\n",
            "469/469 [==============================] - 2s 4ms/step - loss: 7.8415 - accuracy: 0.0748\n",
            "Epoch 43/50\n",
            "469/469 [==============================] - 2s 4ms/step - loss: 7.8415 - accuracy: 0.0748\n",
            "Epoch 44/50\n",
            "469/469 [==============================] - 2s 4ms/step - loss: 7.8415 - accuracy: 0.0748\n",
            "Epoch 45/50\n",
            "469/469 [==============================] - 2s 4ms/step - loss: 7.8415 - accuracy: 0.0748\n",
            "Epoch 46/50\n",
            "469/469 [==============================] - 2s 4ms/step - loss: 7.8415 - accuracy: 0.0748\n",
            "Epoch 47/50\n",
            "469/469 [==============================] - 2s 4ms/step - loss: 7.8415 - accuracy: 0.0748\n",
            "Epoch 48/50\n",
            "469/469 [==============================] - 2s 4ms/step - loss: 7.8415 - accuracy: 0.0748\n",
            "Epoch 49/50\n",
            "469/469 [==============================] - 2s 4ms/step - loss: 7.8415 - accuracy: 0.0748\n",
            "Epoch 50/50\n",
            "469/469 [==============================] - 2s 4ms/step - loss: 7.8415 - accuracy: 0.0748\n"
          ]
        }
      ]
    },
    {
      "cell_type": "code",
      "source": [
        "cnn.evaluate(x_test_norm, y_test_oh)"
      ],
      "metadata": {
        "colab": {
          "base_uri": "https://localhost:8080/"
        },
        "id": "UYVcugUUuvkY",
        "outputId": "b37f511d-820a-4d4a-b14b-9533844f3710"
      },
      "execution_count": 33,
      "outputs": [
        {
          "output_type": "stream",
          "name": "stdout",
          "text": [
            "313/313 [==============================] - 1s 2ms/step - loss: 7.7093 - accuracy: 0.0800\n"
          ]
        },
        {
          "output_type": "execute_result",
          "data": {
            "text/plain": [
              "[7.709282875061035, 0.07999999821186066]"
            ]
          },
          "metadata": {},
          "execution_count": 33
        }
      ]
    },
    {
      "cell_type": "code",
      "source": [
        "# Câu 4: Hãy thử nghiệm với kiến trúc sau:\n",
        "#   - Từ kiến trúc MyCNN gốc, hãy loại bỏ hết Conv2D --> Tính độ chính xác trên tập test\n",
        "class MyCNN_withoutConv2D:\n",
        "  # constructor\n",
        "  def __init__(self):\n",
        "    self.model = None\n",
        "\n",
        "  # Define structure of the CNN\n",
        "  def build(self, input_dim):\n",
        "    input = Input(shape = input_dim) # X dau vao cua minh\n",
        "    # C1 = Conv2D(6, (3, 3), padding='same', activation='relu')(input)\n",
        "    S2 = MaxPooling2D(pool_size=(2, 2), padding=\"same\")(input)\n",
        "    # C3 = Conv2D(16, (3, 3), padding='same', activation='relu')(S2)\n",
        "    S4 = MaxPooling2D(pool_size=(2, 2), padding=\"same\")(S2)\n",
        "\n",
        "    flat = Flatten()(S4)\n",
        "    # These like ANN\n",
        "    F5 = Dense(120, activation='relu', use_bias=True)(flat)\n",
        "    F6 = Dense(84, activation='relu', use_bias=True)(F5)\n",
        "    output = Dense(10, activation='softmax', use_bias=True)(F6) # y~ output\n",
        "    self.model = Model(input, output)\n",
        "  \n",
        "  # Train the model\n",
        "  def train(self, x_train, y_train): # x_train chinh la X, y_train chinh la ground-truth\n",
        "    sgd = keras.optimizers.SGD(learning_rate=0.01)\n",
        "    self.model.compile(optimizer=sgd, loss = 'categorical_crossentropy', metrics=['accuracy'])\n",
        "    self.model.fit(x_train, y_train, epochs = 50, batch_size = 128)\n",
        "  \n",
        "  # Load model from file\n",
        "  def load(self, model_file):\n",
        "    self.model = load_model(model_file)\n",
        "  \n",
        "  # save the trained model\n",
        "  def save(self, model_file):\n",
        "    self.model.save(model_file)\n",
        "  \n",
        "  # Show the architecture of the model\n",
        "  def summary(self):\n",
        "    self.model.summary()\n",
        "\n",
        "  # Test the model with a given input\n",
        "  def predict(self, x_test):\n",
        "    return self.model.predict(x_test)\n",
        "\n",
        "  def evaluate(self, x_test, y_test):\n",
        "    return self.model.evaluate(x_test, y_test)"
      ],
      "metadata": {
        "id": "N2XZTDFnlWIM"
      },
      "execution_count": 34,
      "outputs": []
    },
    {
      "cell_type": "code",
      "source": [
        "# Build and train CNN model\n",
        "cnn = MyCNN_withoutConv2D()\n",
        "cnn.build((28, 28, 1))\n",
        "cnn.train(x_train_norm, y_train_oh)"
      ],
      "metadata": {
        "colab": {
          "base_uri": "https://localhost:8080/"
        },
        "id": "gPAyKsnKuwET",
        "outputId": "a1322076-f4c8-43eb-f22e-ee2c43e83a33"
      },
      "execution_count": 35,
      "outputs": [
        {
          "output_type": "stream",
          "name": "stdout",
          "text": [
            "Epoch 1/50\n",
            "469/469 [==============================] - 2s 3ms/step - loss: 1.8792 - accuracy: 0.4827\n",
            "Epoch 2/50\n",
            "469/469 [==============================] - 1s 3ms/step - loss: 1.1327 - accuracy: 0.7028\n",
            "Epoch 3/50\n",
            "469/469 [==============================] - 1s 3ms/step - loss: 0.8398 - accuracy: 0.7514\n",
            "Epoch 4/50\n",
            "469/469 [==============================] - 1s 3ms/step - loss: 0.7201 - accuracy: 0.7845\n",
            "Epoch 5/50\n",
            "469/469 [==============================] - 1s 3ms/step - loss: 0.6522 - accuracy: 0.8008\n",
            "Epoch 6/50\n",
            "469/469 [==============================] - 1s 3ms/step - loss: 0.6095 - accuracy: 0.8112\n",
            "Epoch 7/50\n",
            "469/469 [==============================] - 1s 3ms/step - loss: 0.5810 - accuracy: 0.8169\n",
            "Epoch 8/50\n",
            "469/469 [==============================] - 1s 3ms/step - loss: 0.5613 - accuracy: 0.8213\n",
            "Epoch 9/50\n",
            "469/469 [==============================] - 1s 3ms/step - loss: 0.5459 - accuracy: 0.8268\n",
            "Epoch 10/50\n",
            "469/469 [==============================] - 1s 3ms/step - loss: 0.5339 - accuracy: 0.8292\n",
            "Epoch 11/50\n",
            "469/469 [==============================] - 1s 3ms/step - loss: 0.5239 - accuracy: 0.8314\n",
            "Epoch 12/50\n",
            "469/469 [==============================] - 1s 3ms/step - loss: 0.5149 - accuracy: 0.8345\n",
            "Epoch 13/50\n",
            "469/469 [==============================] - 1s 3ms/step - loss: 0.5068 - accuracy: 0.8364\n",
            "Epoch 14/50\n",
            "469/469 [==============================] - 1s 3ms/step - loss: 0.4991 - accuracy: 0.8382\n",
            "Epoch 15/50\n",
            "469/469 [==============================] - 1s 3ms/step - loss: 0.4926 - accuracy: 0.8407\n",
            "Epoch 16/50\n",
            "469/469 [==============================] - 1s 3ms/step - loss: 0.4863 - accuracy: 0.8423\n",
            "Epoch 17/50\n",
            "469/469 [==============================] - 1s 3ms/step - loss: 0.4800 - accuracy: 0.8443\n",
            "Epoch 18/50\n",
            "469/469 [==============================] - 1s 3ms/step - loss: 0.4744 - accuracy: 0.8456\n",
            "Epoch 19/50\n",
            "469/469 [==============================] - 1s 3ms/step - loss: 0.4688 - accuracy: 0.8479\n",
            "Epoch 20/50\n",
            "469/469 [==============================] - 1s 3ms/step - loss: 0.4633 - accuracy: 0.8495\n",
            "Epoch 21/50\n",
            "469/469 [==============================] - 1s 3ms/step - loss: 0.4582 - accuracy: 0.8507\n",
            "Epoch 22/50\n",
            "469/469 [==============================] - 1s 3ms/step - loss: 0.4533 - accuracy: 0.8523\n",
            "Epoch 23/50\n",
            "469/469 [==============================] - 1s 3ms/step - loss: 0.4483 - accuracy: 0.8539\n",
            "Epoch 24/50\n",
            "469/469 [==============================] - 1s 3ms/step - loss: 0.4439 - accuracy: 0.8550\n",
            "Epoch 25/50\n",
            "469/469 [==============================] - 1s 3ms/step - loss: 0.4390 - accuracy: 0.8563\n",
            "Epoch 26/50\n",
            "469/469 [==============================] - 1s 3ms/step - loss: 0.4346 - accuracy: 0.8589\n",
            "Epoch 27/50\n",
            "469/469 [==============================] - 1s 3ms/step - loss: 0.4303 - accuracy: 0.8597\n",
            "Epoch 28/50\n",
            "469/469 [==============================] - 1s 3ms/step - loss: 0.4261 - accuracy: 0.8617\n",
            "Epoch 29/50\n",
            "469/469 [==============================] - 1s 3ms/step - loss: 0.4222 - accuracy: 0.8620\n",
            "Epoch 30/50\n",
            "469/469 [==============================] - 1s 3ms/step - loss: 0.4185 - accuracy: 0.8639\n",
            "Epoch 31/50\n",
            "469/469 [==============================] - 1s 3ms/step - loss: 0.4146 - accuracy: 0.8648\n",
            "Epoch 32/50\n",
            "469/469 [==============================] - 1s 3ms/step - loss: 0.4111 - accuracy: 0.8663\n",
            "Epoch 33/50\n",
            "469/469 [==============================] - 1s 3ms/step - loss: 0.4075 - accuracy: 0.8674\n",
            "Epoch 34/50\n",
            "469/469 [==============================] - 1s 3ms/step - loss: 0.4038 - accuracy: 0.8689\n",
            "Epoch 35/50\n",
            "469/469 [==============================] - 1s 3ms/step - loss: 0.4007 - accuracy: 0.8699\n",
            "Epoch 36/50\n",
            "469/469 [==============================] - 1s 3ms/step - loss: 0.3974 - accuracy: 0.8707\n",
            "Epoch 37/50\n",
            "469/469 [==============================] - 1s 3ms/step - loss: 0.3942 - accuracy: 0.8717\n",
            "Epoch 38/50\n",
            "469/469 [==============================] - 1s 3ms/step - loss: 0.3910 - accuracy: 0.8725\n",
            "Epoch 39/50\n",
            "469/469 [==============================] - 1s 3ms/step - loss: 0.3882 - accuracy: 0.8741\n",
            "Epoch 40/50\n",
            "469/469 [==============================] - 1s 3ms/step - loss: 0.3853 - accuracy: 0.8749\n",
            "Epoch 41/50\n",
            "469/469 [==============================] - 1s 3ms/step - loss: 0.3823 - accuracy: 0.8762\n",
            "Epoch 42/50\n",
            "469/469 [==============================] - 1s 3ms/step - loss: 0.3795 - accuracy: 0.8765\n",
            "Epoch 43/50\n",
            "469/469 [==============================] - 1s 3ms/step - loss: 0.3768 - accuracy: 0.8777\n",
            "Epoch 44/50\n",
            "469/469 [==============================] - 1s 3ms/step - loss: 0.3740 - accuracy: 0.8787\n",
            "Epoch 45/50\n",
            "469/469 [==============================] - 1s 3ms/step - loss: 0.3717 - accuracy: 0.8793\n",
            "Epoch 46/50\n",
            "469/469 [==============================] - 1s 3ms/step - loss: 0.3692 - accuracy: 0.8806\n",
            "Epoch 47/50\n",
            "469/469 [==============================] - 1s 3ms/step - loss: 0.3668 - accuracy: 0.8810\n",
            "Epoch 48/50\n",
            "469/469 [==============================] - 1s 3ms/step - loss: 0.3644 - accuracy: 0.8815\n",
            "Epoch 49/50\n",
            "469/469 [==============================] - 1s 3ms/step - loss: 0.3628 - accuracy: 0.8825\n",
            "Epoch 50/50\n",
            "469/469 [==============================] - 1s 3ms/step - loss: 0.3602 - accuracy: 0.8831\n"
          ]
        }
      ]
    },
    {
      "cell_type": "code",
      "source": [
        "cnn.evaluate(x_test_norm, y_test_oh)"
      ],
      "metadata": {
        "colab": {
          "base_uri": "https://localhost:8080/"
        },
        "id": "hBj29UnOuwAn",
        "outputId": "69ac280a-4ddb-4bfb-a4b3-01c4c82183d0"
      },
      "execution_count": 36,
      "outputs": [
        {
          "output_type": "stream",
          "name": "stdout",
          "text": [
            "313/313 [==============================] - 1s 2ms/step - loss: 0.3700 - accuracy: 0.8844\n"
          ]
        },
        {
          "output_type": "execute_result",
          "data": {
            "text/plain": [
              "[0.37002840638160706, 0.8844000101089478]"
            ]
          },
          "metadata": {},
          "execution_count": 36
        }
      ]
    },
    {
      "cell_type": "markdown",
      "source": [
        "##Nhận xét:\n",
        "\n",
        "\n",
        "*   Khi loại bỏ MaxPooling, accuracy không đổi.\n",
        "*   Khi loại bỏ Activation, accuracy về còn khoảng 11% vì mạng CNN chọn ngẫu nhiên 1 lớp và dự đoán tất cả đều là lớp đó.\n",
        "* Khi loại bỏ lớp Con2D, accuracy giảm một ít.\n",
        "\n"
      ],
      "metadata": {
        "id": "DK5R3w8MvEdL"
      }
    }
  ]
}